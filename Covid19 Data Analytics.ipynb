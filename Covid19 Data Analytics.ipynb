{
 "cells": [
  {
   "cell_type": "code",
   "execution_count": 2,
   "metadata": {},
   "outputs": [
    {
     "data": {
      "text/html": [
       "        <script type=\"text/javascript\">\n",
       "        window.PlotlyConfig = {MathJaxConfig: 'local'};\n",
       "        if (window.MathJax) {MathJax.Hub.Config({SVG: {font: \"STIX-Web\"}});}\n",
       "        if (typeof require !== 'undefined') {\n",
       "        require.undef(\"plotly\");\n",
       "        requirejs.config({\n",
       "            paths: {\n",
       "                'plotly': ['https://cdn.plot.ly/plotly-latest.min']\n",
       "            }\n",
       "        });\n",
       "        require(['plotly'], function(Plotly) {\n",
       "            window._Plotly = Plotly;\n",
       "        });\n",
       "        }\n",
       "        </script>\n",
       "        "
      ]
     },
     "metadata": {},
     "output_type": "display_data"
    }
   ],
   "source": [
    "import pandas as pd\n",
    "import chart_studio.plotly as py\n",
    "import plotly.graph_objs as go \n",
    "from plotly.offline import init_notebook_mode,iplot,plot\n",
    "init_notebook_mode(connected=True) \n"
   ]
  },
  {
   "cell_type": "code",
   "execution_count": 3,
   "metadata": {},
   "outputs": [
    {
     "data": {
      "text/html": [
       "<div>\n",
       "<style scoped>\n",
       "    .dataframe tbody tr th:only-of-type {\n",
       "        vertical-align: middle;\n",
       "    }\n",
       "\n",
       "    .dataframe tbody tr th {\n",
       "        vertical-align: top;\n",
       "    }\n",
       "\n",
       "    .dataframe thead th {\n",
       "        text-align: right;\n",
       "    }\n",
       "</style>\n",
       "<table border=\"1\" class=\"dataframe\">\n",
       "  <thead>\n",
       "    <tr style=\"text-align: right;\">\n",
       "      <th></th>\n",
       "      <th>iso_code</th>\n",
       "      <th>continent</th>\n",
       "      <th>location</th>\n",
       "      <th>date</th>\n",
       "      <th>total_cases</th>\n",
       "      <th>new_cases</th>\n",
       "      <th>new_cases_smoothed</th>\n",
       "      <th>total_deaths</th>\n",
       "      <th>new_deaths</th>\n",
       "      <th>new_deaths_smoothed</th>\n",
       "      <th>...</th>\n",
       "      <th>extreme_poverty</th>\n",
       "      <th>cardiovasc_death_rate</th>\n",
       "      <th>diabetes_prevalence</th>\n",
       "      <th>female_smokers</th>\n",
       "      <th>male_smokers</th>\n",
       "      <th>handwashing_facilities</th>\n",
       "      <th>hospital_beds_per_thousand</th>\n",
       "      <th>life_expectancy</th>\n",
       "      <th>human_development_index</th>\n",
       "      <th>code</th>\n",
       "    </tr>\n",
       "  </thead>\n",
       "  <tbody>\n",
       "    <tr>\n",
       "      <th>0</th>\n",
       "      <td>AFG</td>\n",
       "      <td>Asia</td>\n",
       "      <td>Afghanistan</td>\n",
       "      <td>24-02-2020</td>\n",
       "      <td>1.0</td>\n",
       "      <td>1.0</td>\n",
       "      <td>NaN</td>\n",
       "      <td>NaN</td>\n",
       "      <td>NaN</td>\n",
       "      <td>NaN</td>\n",
       "      <td>...</td>\n",
       "      <td>NaN</td>\n",
       "      <td>597.029</td>\n",
       "      <td>9.59</td>\n",
       "      <td>NaN</td>\n",
       "      <td>NaN</td>\n",
       "      <td>37.746</td>\n",
       "      <td>0.5</td>\n",
       "      <td>64.83</td>\n",
       "      <td>0.498</td>\n",
       "      <td>AFG</td>\n",
       "    </tr>\n",
       "    <tr>\n",
       "      <th>1</th>\n",
       "      <td>AFG</td>\n",
       "      <td>Asia</td>\n",
       "      <td>Afghanistan</td>\n",
       "      <td>25-02-2020</td>\n",
       "      <td>1.0</td>\n",
       "      <td>0.0</td>\n",
       "      <td>NaN</td>\n",
       "      <td>NaN</td>\n",
       "      <td>NaN</td>\n",
       "      <td>NaN</td>\n",
       "      <td>...</td>\n",
       "      <td>NaN</td>\n",
       "      <td>597.029</td>\n",
       "      <td>9.59</td>\n",
       "      <td>NaN</td>\n",
       "      <td>NaN</td>\n",
       "      <td>37.746</td>\n",
       "      <td>0.5</td>\n",
       "      <td>64.83</td>\n",
       "      <td>0.498</td>\n",
       "      <td>AFG</td>\n",
       "    </tr>\n",
       "    <tr>\n",
       "      <th>2</th>\n",
       "      <td>AFG</td>\n",
       "      <td>Asia</td>\n",
       "      <td>Afghanistan</td>\n",
       "      <td>26-02-2020</td>\n",
       "      <td>1.0</td>\n",
       "      <td>0.0</td>\n",
       "      <td>NaN</td>\n",
       "      <td>NaN</td>\n",
       "      <td>NaN</td>\n",
       "      <td>NaN</td>\n",
       "      <td>...</td>\n",
       "      <td>NaN</td>\n",
       "      <td>597.029</td>\n",
       "      <td>9.59</td>\n",
       "      <td>NaN</td>\n",
       "      <td>NaN</td>\n",
       "      <td>37.746</td>\n",
       "      <td>0.5</td>\n",
       "      <td>64.83</td>\n",
       "      <td>0.498</td>\n",
       "      <td>AFG</td>\n",
       "    </tr>\n",
       "    <tr>\n",
       "      <th>3</th>\n",
       "      <td>AFG</td>\n",
       "      <td>Asia</td>\n",
       "      <td>Afghanistan</td>\n",
       "      <td>27-02-2020</td>\n",
       "      <td>1.0</td>\n",
       "      <td>0.0</td>\n",
       "      <td>NaN</td>\n",
       "      <td>NaN</td>\n",
       "      <td>NaN</td>\n",
       "      <td>NaN</td>\n",
       "      <td>...</td>\n",
       "      <td>NaN</td>\n",
       "      <td>597.029</td>\n",
       "      <td>9.59</td>\n",
       "      <td>NaN</td>\n",
       "      <td>NaN</td>\n",
       "      <td>37.746</td>\n",
       "      <td>0.5</td>\n",
       "      <td>64.83</td>\n",
       "      <td>0.498</td>\n",
       "      <td>AFG</td>\n",
       "    </tr>\n",
       "    <tr>\n",
       "      <th>4</th>\n",
       "      <td>AFG</td>\n",
       "      <td>Asia</td>\n",
       "      <td>Afghanistan</td>\n",
       "      <td>28-02-2020</td>\n",
       "      <td>1.0</td>\n",
       "      <td>0.0</td>\n",
       "      <td>NaN</td>\n",
       "      <td>NaN</td>\n",
       "      <td>NaN</td>\n",
       "      <td>NaN</td>\n",
       "      <td>...</td>\n",
       "      <td>NaN</td>\n",
       "      <td>597.029</td>\n",
       "      <td>9.59</td>\n",
       "      <td>NaN</td>\n",
       "      <td>NaN</td>\n",
       "      <td>37.746</td>\n",
       "      <td>0.5</td>\n",
       "      <td>64.83</td>\n",
       "      <td>0.498</td>\n",
       "      <td>AFG</td>\n",
       "    </tr>\n",
       "  </tbody>\n",
       "</table>\n",
       "<p>5 rows × 55 columns</p>\n",
       "</div>"
      ],
      "text/plain": [
       "  iso_code continent     location        date  total_cases  new_cases  \\\n",
       "0      AFG      Asia  Afghanistan  24-02-2020          1.0        1.0   \n",
       "1      AFG      Asia  Afghanistan  25-02-2020          1.0        0.0   \n",
       "2      AFG      Asia  Afghanistan  26-02-2020          1.0        0.0   \n",
       "3      AFG      Asia  Afghanistan  27-02-2020          1.0        0.0   \n",
       "4      AFG      Asia  Afghanistan  28-02-2020          1.0        0.0   \n",
       "\n",
       "   new_cases_smoothed  total_deaths  new_deaths  new_deaths_smoothed  ...  \\\n",
       "0                 NaN           NaN         NaN                  NaN  ...   \n",
       "1                 NaN           NaN         NaN                  NaN  ...   \n",
       "2                 NaN           NaN         NaN                  NaN  ...   \n",
       "3                 NaN           NaN         NaN                  NaN  ...   \n",
       "4                 NaN           NaN         NaN                  NaN  ...   \n",
       "\n",
       "   extreme_poverty  cardiovasc_death_rate  diabetes_prevalence  \\\n",
       "0              NaN                597.029                 9.59   \n",
       "1              NaN                597.029                 9.59   \n",
       "2              NaN                597.029                 9.59   \n",
       "3              NaN                597.029                 9.59   \n",
       "4              NaN                597.029                 9.59   \n",
       "\n",
       "   female_smokers  male_smokers  handwashing_facilities  \\\n",
       "0             NaN           NaN                  37.746   \n",
       "1             NaN           NaN                  37.746   \n",
       "2             NaN           NaN                  37.746   \n",
       "3             NaN           NaN                  37.746   \n",
       "4             NaN           NaN                  37.746   \n",
       "\n",
       "   hospital_beds_per_thousand  life_expectancy  human_development_index  code  \n",
       "0                         0.5            64.83                    0.498   AFG  \n",
       "1                         0.5            64.83                    0.498   AFG  \n",
       "2                         0.5            64.83                    0.498   AFG  \n",
       "3                         0.5            64.83                    0.498   AFG  \n",
       "4                         0.5            64.83                    0.498   AFG  \n",
       "\n",
       "[5 rows x 55 columns]"
      ]
     },
     "execution_count": 3,
     "metadata": {},
     "output_type": "execute_result"
    }
   ],
   "source": [
    "df = pd.read_csv('covid-data.csv')\n",
    "df.head()"
   ]
  },
  {
   "cell_type": "code",
   "execution_count": 4,
   "metadata": {},
   "outputs": [],
   "source": [
    "tdf = df.groupby(['location','code']).sum()[['new_cases','new_deaths']]\n",
    "adf = df.groupby('date').mean()[['total_cases','total_deaths']]"
   ]
  },
  {
   "cell_type": "code",
   "execution_count": 5,
   "metadata": {},
   "outputs": [],
   "source": [
    "tdf = tdf.reset_index()"
   ]
  },
  {
   "cell_type": "code",
   "execution_count": 6,
   "metadata": {},
   "outputs": [],
   "source": [
    "tdf['text'] = tdf['location']+'<br>'+'Total Cases ='+tdf['new_cases'].astype(str)+'<br>'+'Total Deaths ='+tdf['new_deaths'].astype(str)"
   ]
  },
  {
   "cell_type": "code",
   "execution_count": 7,
   "metadata": {},
   "outputs": [
    {
     "data": {
      "text/html": [
       "<div>\n",
       "<style scoped>\n",
       "    .dataframe tbody tr th:only-of-type {\n",
       "        vertical-align: middle;\n",
       "    }\n",
       "\n",
       "    .dataframe tbody tr th {\n",
       "        vertical-align: top;\n",
       "    }\n",
       "\n",
       "    .dataframe thead th {\n",
       "        text-align: right;\n",
       "    }\n",
       "</style>\n",
       "<table border=\"1\" class=\"dataframe\">\n",
       "  <thead>\n",
       "    <tr style=\"text-align: right;\">\n",
       "      <th></th>\n",
       "      <th>location</th>\n",
       "      <th>code</th>\n",
       "      <th>new_cases</th>\n",
       "      <th>new_deaths</th>\n",
       "      <th>text</th>\n",
       "    </tr>\n",
       "  </thead>\n",
       "  <tbody>\n",
       "    <tr>\n",
       "      <th>0</th>\n",
       "      <td>Afghanistan</td>\n",
       "      <td>AFG</td>\n",
       "      <td>53489.0</td>\n",
       "      <td>2277.0</td>\n",
       "      <td>Afghanistan&lt;br&gt;Total Cases =53489.0&lt;br&gt;Total D...</td>\n",
       "    </tr>\n",
       "    <tr>\n",
       "      <th>1</th>\n",
       "      <td>Albania</td>\n",
       "      <td>ALB</td>\n",
       "      <td>63595.0</td>\n",
       "      <td>1241.0</td>\n",
       "      <td>Albania&lt;br&gt;Total Cases =63595.0&lt;br&gt;Total Death...</td>\n",
       "    </tr>\n",
       "    <tr>\n",
       "      <th>2</th>\n",
       "      <td>Algeria</td>\n",
       "      <td>DZA</td>\n",
       "      <td>102144.0</td>\n",
       "      <td>2807.0</td>\n",
       "      <td>Algeria&lt;br&gt;Total Cases =102144.0&lt;br&gt;Total Deat...</td>\n",
       "    </tr>\n",
       "    <tr>\n",
       "      <th>3</th>\n",
       "      <td>Andorra</td>\n",
       "      <td>AND</td>\n",
       "      <td>8586.0</td>\n",
       "      <td>85.0</td>\n",
       "      <td>Andorra&lt;br&gt;Total Cases =8586.0&lt;br&gt;Total Deaths...</td>\n",
       "    </tr>\n",
       "    <tr>\n",
       "      <th>4</th>\n",
       "      <td>Angola</td>\n",
       "      <td>AGO</td>\n",
       "      <td>18193.0</td>\n",
       "      <td>416.0</td>\n",
       "      <td>Angola&lt;br&gt;Total Cases =18193.0&lt;br&gt;Total Deaths...</td>\n",
       "    </tr>\n",
       "  </tbody>\n",
       "</table>\n",
       "</div>"
      ],
      "text/plain": [
       "      location code  new_cases  new_deaths  \\\n",
       "0  Afghanistan  AFG    53489.0      2277.0   \n",
       "1      Albania  ALB    63595.0      1241.0   \n",
       "2      Algeria  DZA   102144.0      2807.0   \n",
       "3      Andorra  AND     8586.0        85.0   \n",
       "4       Angola  AGO    18193.0       416.0   \n",
       "\n",
       "                                                text  \n",
       "0  Afghanistan<br>Total Cases =53489.0<br>Total D...  \n",
       "1  Albania<br>Total Cases =63595.0<br>Total Death...  \n",
       "2  Algeria<br>Total Cases =102144.0<br>Total Deat...  \n",
       "3  Andorra<br>Total Cases =8586.0<br>Total Deaths...  \n",
       "4  Angola<br>Total Cases =18193.0<br>Total Deaths...  "
      ]
     },
     "execution_count": 7,
     "metadata": {},
     "output_type": "execute_result"
    }
   ],
   "source": [
    "tdf.head()"
   ]
  },
  {
   "cell_type": "code",
   "execution_count": 8,
   "metadata": {},
   "outputs": [],
   "source": [
    "data = dict(type = 'choropleth',\n",
    "        locations = tdf['code'],\n",
    "        z = tdf['new_cases'],\n",
    "        text = tdf['text'],\n",
    "        colorbar = {'title' : 'Covid Cases'},\n",
    "      ) "
   ]
  },
  {
   "cell_type": "code",
   "execution_count": 9,
   "metadata": {},
   "outputs": [],
   "source": [
    "layout = dict(title = 'Covid19 cases and deaths world wide',\n",
    "    geo = dict(\n",
    "        showframe = False,\n",
    "        projection = {'type':'kavrayskiy7'}\n",
    "    )\n",
    ")"
   ]
  },
  {
   "cell_type": "code",
   "execution_count": 10,
   "metadata": {},
   "outputs": [
    {
     "data": {
      "application/vnd.plotly.v1+json": {
       "config": {
        "linkText": "Export to plot.ly",
        "plotlyServerURL": "https://plot.ly",
        "showLink": false
       },
       "data": [
        {
         "colorbar": {
          "title": {
           "text": "Covid Cases"
          }
         },
         "locations": [
          "AFG",
          "ALB",
          "DZA",
          "AND",
          "AGO",
          "ATG",
          "ARG",
          "ARM",
          "AUS",
          "AUT",
          "AZE",
          "BHR",
          "BGD",
          "BRB",
          "BLR",
          "BEL",
          "BLZ",
          "BEN",
          "BTN",
          "BOL",
          "BIH",
          "BWA",
          "BRA",
          "BRN",
          "BGR",
          "BFA",
          "BDI",
          "KHM",
          "CMR",
          "CAN",
          "CAF",
          "TCD",
          "CHL",
          "CHN",
          "COL",
          "COM",
          "CRI",
          "CIV",
          "HRV",
          "CUB",
          "CYP",
          "DNK",
          "DJI",
          "DMA",
          "DOM",
          "ECU",
          "EGY",
          "SLV",
          "GNQ",
          "ERI",
          "EST",
          "ETH",
          "FJI",
          "FIN",
          "FRA",
          "GAB",
          "GEO",
          "DEU",
          "GHA",
          "GRC",
          "GRD",
          "GTM",
          "GIN",
          "GNB",
          "GUY",
          "HTI",
          "HND",
          "HKG",
          "HUN",
          "ISL",
          "IND",
          "IDN",
          "IRN",
          "IRQ",
          "IRL",
          "ISR",
          "ITA",
          "JAM",
          "JPN",
          "JOR",
          "KAZ",
          "KEN",
          "KSV",
          "KWT",
          "KGZ",
          "LAO",
          "LVA",
          "LBN",
          "LSO",
          "LBR",
          "LBY",
          "LIE",
          "LTU",
          "LUX",
          "MDG",
          "MWI",
          "MYS",
          "MDV",
          "MLI",
          "MLT",
          "MHL",
          "MRT",
          "MUS",
          "MEX",
          "MDA",
          "MCO",
          "MNG",
          "MNE",
          "MAR",
          "MOZ",
          "NAM",
          "NPL",
          "NLD",
          "NZL",
          "NIC",
          "NER",
          "NGA",
          "NOR",
          "OMN",
          "PAK",
          "PAN",
          "PNG",
          "PRY",
          "PER",
          "PHL",
          "POL",
          "PRT",
          "QAT",
          "ROU",
          "RUS",
          "RWA",
          "KNA",
          "LCA",
          "VCT",
          "WSM",
          "SMR",
          "STP",
          "SAU",
          "SEN",
          "SRB",
          "SYC",
          "SLE",
          "SGP",
          "SVK",
          "SVN",
          "SLB",
          "SOM",
          "ZAF",
          "SSD",
          "ESP",
          "LKA",
          "SDN",
          "SUR",
          "SWE",
          "CHE",
          "SYR",
          "TWN",
          "TJK",
          "TZA",
          "THA",
          "TGO",
          "TTO",
          "TUN",
          "TUR",
          "UGA",
          "UKR",
          "ARE",
          "GBR",
          "USA",
          "URY",
          "UZB",
          "VUT",
          "VEN",
          "VNM",
          "YEM",
          "ZMB",
          "ZWE"
         ],
         "text": [
          "Afghanistan<br>Total Cases =53489.0<br>Total Deaths =2277.0",
          "Albania<br>Total Cases =63595.0<br>Total Deaths =1241.0",
          "Algeria<br>Total Cases =102144.0<br>Total Deaths =2807.0",
          "Andorra<br>Total Cases =8586.0<br>Total Deaths =85.0",
          "Angola<br>Total Cases =18193.0<br>Total Deaths =416.0",
          "Antigua and Barbuda<br>Total Cases =176.0<br>Total Deaths =5.0",
          "Argentina<br>Total Cases =1722217.0<br>Total Deaths =44495.0",
          "Armenia<br>Total Cases =162131.0<br>Total Deaths =2929.0",
          "Australia<br>Total Cases =28614.0<br>Total Deaths =909.0",
          "Austria<br>Total Cases =380722.0<br>Total Deaths =6723.0",
          "Azerbaijan<br>Total Cases =224651.0<br>Total Deaths =2909.0",
          "Bahrain<br>Total Cases =95558.0<br>Total Deaths =356.0",
          "Bangladesh<br>Total Cases =522453.0<br>Total Deaths =7781.0",
          "Barbados<br>Total Cases =878.0<br>Total Deaths =7.0",
          "Belarus<br>Total Cases =212201.0<br>Total Deaths =1517.0",
          "Belgium<br>Total Cases =664263.0<br>Total Deaths =20078.0",
          "Belize<br>Total Cases =11303.0<br>Total Deaths =274.0",
          "Benin<br>Total Cases =3304.0<br>Total Deaths =44.0",
          "Bhutan<br>Total Cases =767.0<br>Total Deaths =0.0",
          "Bolivia<br>Total Cases =173896.0<br>Total Deaths =9376.0",
          "Bosnia and Herzegovina<br>Total Cases =115633.0<br>Total Deaths =4330.0",
          "Botswana<br>Total Cases =16050.0<br>Total Deaths =48.0",
          "Brazil<br>Total Cases =8105790.0<br>Total Deaths =203100.0",
          "Brunei<br>Total Cases =173.0<br>Total Deaths =3.0",
          "Bulgaria<br>Total Cases =208511.0<br>Total Deaths =8126.0",
          "Burkina Faso<br>Total Cases =8082.0<br>Total Deaths =89.0",
          "Burundi<br>Total Cases =986.0<br>Total Deaths =2.0",
          "Cambodia<br>Total Cases =391.0<br>Total Deaths =0.0",
          "Cameroon<br>Total Cases =26848.0<br>Total Deaths =448.0",
          "Canada<br>Total Cases =664606.0<br>Total Deaths =16960.0",
          "Central African Republic<br>Total Cases =4973.0<br>Total Deaths =63.0",
          "Chad<br>Total Cases =2537.0<br>Total Deaths =107.0",
          "Chile<br>Total Cases =641923.0<br>Total Deaths =17096.0",
          "China<br>Total Cases =96276.0<br>Total Deaths =4775.0",
          "Colombia<br>Total Cases =1786900.0<br>Total Deaths =46114.0",
          "Comoros<br>Total Cases =1150.0<br>Total Deaths =18.0",
          "Costa Rica<br>Total Cases =177614.0<br>Total Deaths =2305.0",
          "Cote d'Ivoire<br>Total Cases =23750.0<br>Total Deaths =139.0",
          "Croatia<br>Total Cases =219993.0<br>Total Deaths =4368.0",
          "Cuba<br>Total Cases =14576.0<br>Total Deaths =151.0",
          "Cyprus<br>Total Cases =27350.0<br>Total Deaths =148.0",
          "Denmark<br>Total Cases =182161.0<br>Total Deaths =1571.0",
          "Djibouti<br>Total Cases =5871.0<br>Total Deaths =61.0",
          "Dominica<br>Total Cases =106.0<br>Total Deaths =0.0",
          "Dominican Republic<br>Total Cases =182103.0<br>Total Deaths =2427.0",
          "Ecuador<br>Total Cases =221070.0<br>Total Deaths =14177.0",
          "Egypt<br>Total Cases =149792.0<br>Total Deaths =8197.0",
          "El Salvador<br>Total Cases =48905.0<br>Total Deaths =1419.0",
          "Equatorial Guinea<br>Total Cases =5289.0<br>Total Deaths =86.0",
          "Eritrea<br>Total Cases =1445.0<br>Total Deaths =3.0",
          "Estonia<br>Total Cases =33516.0<br>Total Deaths =283.0",
          "Ethiopia<br>Total Cases =128316.0<br>Total Deaths =1994.0",
          "Fiji<br>Total Cases =53.0<br>Total Deaths =2.0",
          "Finland<br>Total Cases =38590.0<br>Total Deaths =586.0",
          "France<br>Total Cases =2840864.0<br>Total Deaths =67885.0",
          "Gabon<br>Total Cases =9694.0<br>Total Deaths =66.0",
          "Georgia<br>Total Cases =239229.0<br>Total Deaths =2773.0",
          "Germany<br>Total Cases =1929410.0<br>Total Deaths =40936.0",
          "Ghana<br>Total Cases =55772.0<br>Total Deaths =336.0",
          "Greece<br>Total Cases =144738.0<br>Total Deaths =5263.0",
          "Grenada<br>Total Cases =127.0<br>Total Deaths =0.0",
          "Guatemala<br>Total Cases =143243.0<br>Total Deaths =5025.0",
          "Guinea<br>Total Cases =13942.0<br>Total Deaths =81.0",
          "Guinea-Bissau<br>Total Cases =2478.0<br>Total Deaths =45.0",
          "Guyana<br>Total Cases =6574.0<br>Total Deaths =169.0",
          "Haiti<br>Total Cases =10272.0<br>Total Deaths =238.0",
          "Honduras<br>Total Cases =127945.0<br>Total Deaths =3273.0",
          "Hong Kong<br>Total Cases =0.0<br>Total Deaths =0.0",
          "Hungary<br>Total Cases =342237.0<br>Total Deaths =10648.0",
          "Iceland<br>Total Cases =5890.0<br>Total Deaths =29.0",
          "India<br>Total Cases =10466595.0<br>Total Deaths =151160.0",
          "Indonesia<br>Total Cases =828026.0<br>Total Deaths =24129.0",
          "Iran<br>Total Cases =1286406.0<br>Total Deaths =56171.0",
          "Iraq<br>Total Cases =602938.0<br>Total Deaths =12895.0",
          "Ireland<br>Total Cases =147613.0<br>Total Deaths =2344.0",
          "Israel<br>Total Cases =491319.0<br>Total Deaths =3671.0",
          "Italy<br>Total Cases =2276491.0<br>Total Deaths =78755.0",
          "Jamaica<br>Total Cases =13548.0<br>Total Deaths =312.0",
          "Japan<br>Total Cases =288816.0<br>Total Deaths =3850.0",
          "Jordan<br>Total Cases =307209.0<br>Total Deaths =4024.0",
          "Kazakhstan<br>Total Cases =209369.0<br>Total Deaths =2844.0",
          "Kenya<br>Total Cases =98271.0<br>Total Deaths =1710.0",
          "Kosovo<br>Total Cases =53776.0<br>Total Deaths =1377.0",
          "Kuwait<br>Total Cases =154314.0<br>Total Deaths =943.0",
          "Kyrgyzstan<br>Total Cases =82273.0<br>Total Deaths =1369.0",
          "Laos<br>Total Cases =41.0<br>Total Deaths =0.0",
          "Latvia<br>Total Cases =49568.0<br>Total Deaths =849.0",
          "Lebanon<br>Total Cases =219296.0<br>Total Deaths =1606.0",
          "Lesotho<br>Total Cases =5937.0<br>Total Deaths =85.0",
          "Liberia<br>Total Cases =1779.0<br>Total Deaths =83.0",
          "Libya<br>Total Cases =104745.0<br>Total Deaths =1581.0",
          "Liechtenstein<br>Total Cases =2340.0<br>Total Deaths =49.0",
          "Lithuania<br>Total Cases =159672.0<br>Total Deaths =2197.0",
          "Luxembourg<br>Total Cases =47744.0<br>Total Deaths =527.0",
          "Madagascar<br>Total Cases =18001.0<br>Total Deaths =267.0",
          "Malawi<br>Total Cases =8575.0<br>Total Deaths =225.0",
          "Malaysia<br>Total Cases =135992.0<br>Total Deaths =551.0",
          "Maldives<br>Total Cases =14109.0<br>Total Deaths =49.0",
          "Mali<br>Total Cases =7600.0<br>Total Deaths =298.0",
          "Malta<br>Total Cases =14396.0<br>Total Deaths =233.0",
          "Marshall Islands<br>Total Cases =4.0<br>Total Deaths =0.0",
          "Mauritania<br>Total Cases =15512.0<br>Total Deaths =384.0",
          "Mauritius<br>Total Cases =539.0<br>Total Deaths =10.0",
          "Mexico<br>Total Cases =1534039.0<br>Total Deaths =133706.0",
          "Moldova<br>Total Cases =149391.0<br>Total Deaths =3139.0",
          "Monaco<br>Total Cases =1057.0<br>Total Deaths =4.0",
          "Mongolia<br>Total Cases =1442.0<br>Total Deaths =2.0",
          "Montenegro<br>Total Cases =52431.0<br>Total Deaths =725.0",
          "Morocco<br>Total Cases =452532.0<br>Total Deaths =7743.0",
          "Mozambique<br>Total Cases =21939.0<br>Total Deaths =192.0",
          "Namibia<br>Total Cases =28259.0<br>Total Deaths =254.0",
          "Nepal<br>Total Cases =264780.0<br>Total Deaths =1917.0",
          "Netherlands<br>Total Cases =885098.0<br>Total Deaths =12461.0",
          "New Zealand<br>Total Cases =2222.0<br>Total Deaths =25.0",
          "Nicaragua<br>Total Cases =6097.0<br>Total Deaths =166.0",
          "Niger<br>Total Cases =3877.0<br>Total Deaths =126.0",
          "Nigeria<br>Total Cases =100087.0<br>Total Deaths =1358.0",
          "Norway<br>Total Cases =55474.0<br>Total Deaths =472.0",
          "Oman<br>Total Cases =130608.0<br>Total Deaths =1508.0",
          "Pakistan<br>Total Cases =504293.0<br>Total Deaths =10676.0",
          "Panama<br>Total Cases =279196.0<br>Total Deaths =4455.0",
          "Papua New Guinea<br>Total Cases =811.0<br>Total Deaths =9.0",
          "Paraguay<br>Total Cases =115733.0<br>Total Deaths =2405.0",
          "Peru<br>Total Cases =1026180.0<br>Total Deaths =38049.0",
          "Philippines<br>Total Cases =487690.0<br>Total Deaths =9405.0",
          "Poland<br>Total Cases =1385522.0<br>Total Deaths =31189.0",
          "Portugal<br>Total Cases =483689.0<br>Total Deaths =7803.0",
          "Qatar<br>Total Cases =145865.0<br>Total Deaths =246.0",
          "Romania<br>Total Cases =671284.0<br>Total Deaths =16654.0",
          "Russia<br>Total Cases =3366715.0<br>Total Deaths =60963.0",
          "Rwanda<br>Total Cases =9630.0<br>Total Deaths =120.0",
          "Saint Kitts and Nevis<br>Total Cases =34.0<br>Total Deaths =0.0",
          "Saint Lucia<br>Total Cases =438.0<br>Total Deaths =5.0",
          "Saint Vincent and the Grenadines<br>Total Cases =149.0<br>Total Deaths =0.0",
          "Samoa<br>Total Cases =2.0<br>Total Deaths =0.0",
          "San Marino<br>Total Cases =2628.0<br>Total Deaths =64.0",
          "Sao Tome and Principe<br>Total Cases =1066.0<br>Total Deaths =17.0",
          "Saudi Arabia<br>Total Cases =363809.0<br>Total Deaths =6291.0",
          "Senegal<br>Total Cases =21245.0<br>Total Deaths =465.0",
          "Serbia<br>Total Cases =359689.0<br>Total Deaths =3582.0",
          "Seychelles<br>Total Cases =313.0<br>Total Deaths =0.0",
          "Sierra Leone<br>Total Cases =2834.0<br>Total Deaths =77.0",
          "Singapore<br>Total Cases =58907.0<br>Total Deaths =29.0",
          "Slovakia<br>Total Cases =208209.0<br>Total Deaths =2918.0",
          "Slovenia<br>Total Cases =139281.0<br>Total Deaths =2998.0",
          "Solomon Islands<br>Total Cases =17.0<br>Total Deaths =0.0",
          "Somalia<br>Total Cases =4726.0<br>Total Deaths =130.0",
          "South Africa<br>Total Cases =1231597.0<br>Total Deaths =33163.0",
          "South Sudan<br>Total Cases =3649.0<br>Total Deaths =63.0",
          "Spain<br>Total Cases =2050360.0<br>Total Deaths =51874.0",
          "Sri Lanka<br>Total Cases =48380.0<br>Total Deaths =232.0",
          "Sudan<br>Total Cases =23316.0<br>Total Deaths =1468.0",
          "Suriname<br>Total Cases =7008.0<br>Total Deaths =133.0",
          "Sweden<br>Total Cases =489471.0<br>Total Deaths =9433.0",
          "Switzerland<br>Total Cases =477983.0<br>Total Deaths =8267.0",
          "Syria<br>Total Cases =12364.0<br>Total Deaths =774.0",
          "Taiwan<br>Total Cases =827.0<br>Total Deaths =7.0",
          "Tajikistan<br>Total Cases =13308.0<br>Total Deaths =90.0",
          "Tanzania<br>Total Cases =509.0<br>Total Deaths =21.0",
          "Thailand<br>Total Cases =10296.0<br>Total Deaths =67.0",
          "Togo<br>Total Cases =3957.0<br>Total Deaths =72.0",
          "Trinidad and Tobago<br>Total Cases =7265.0<br>Total Deaths =128.0",
          "Tunisia<br>Total Cases =159276.0<br>Total Deaths =5215.0",
          "Turkey<br>Total Cases =1503031.0<br>Total Deaths =22807.0",
          "Uganda<br>Total Cases =37742.0<br>Total Deaths =301.0",
          "Ukraine<br>Total Cases =1150265.0<br>Total Deaths =20641.0",
          "United Arab Emirates<br>Total Cases =230578.0<br>Total Deaths =708.0",
          "United Kingdom<br>Total Cases =3081368.0<br>Total Deaths =81567.0",
          "United States<br>Total Cases =22406746.0<br>Total Deaths =374322.0",
          "Uruguay<br>Total Cases =26186.0<br>Total Deaths =256.0",
          "Uzbekistan<br>Total Cases =77572.0<br>Total Deaths =617.0",
          "Vanuatu<br>Total Cases =1.0<br>Total Deaths =0.0",
          "Venezuela<br>Total Cases =116610.0<br>Total Deaths =1061.0",
          "Vietnam<br>Total Cases =1514.0<br>Total Deaths =35.0",
          "Yemen<br>Total Cases =2104.0<br>Total Deaths =611.0",
          "Zambia<br>Total Cases =27728.0<br>Total Deaths =469.0",
          "Zimbabwe<br>Total Cases =21477.0<br>Total Deaths =507.0"
         ],
         "type": "choropleth",
         "z": [
          53489,
          63595,
          102144,
          8586,
          18193,
          176,
          1722217,
          162131,
          28614,
          380722,
          224651,
          95558,
          522453,
          878,
          212201,
          664263,
          11303,
          3304,
          767,
          173896,
          115633,
          16050,
          8105790,
          173,
          208511,
          8082,
          986,
          391,
          26848,
          664606,
          4973,
          2537,
          641923,
          96276,
          1786900,
          1150,
          177614,
          23750,
          219993,
          14576,
          27350,
          182161,
          5871,
          106,
          182103,
          221070,
          149792,
          48905,
          5289,
          1445,
          33516,
          128316,
          53,
          38590,
          2840864,
          9694,
          239229,
          1929410,
          55772,
          144738,
          127,
          143243,
          13942,
          2478,
          6574,
          10272,
          127945,
          0,
          342237,
          5890,
          10466595,
          828026,
          1286406,
          602938,
          147613,
          491319,
          2276491,
          13548,
          288816,
          307209,
          209369,
          98271,
          53776,
          154314,
          82273,
          41,
          49568,
          219296,
          5937,
          1779,
          104745,
          2340,
          159672,
          47744,
          18001,
          8575,
          135992,
          14109,
          7600,
          14396,
          4,
          15512,
          539,
          1534039,
          149391,
          1057,
          1442,
          52431,
          452532,
          21939,
          28259,
          264780,
          885098,
          2222,
          6097,
          3877,
          100087,
          55474,
          130608,
          504293,
          279196,
          811,
          115733,
          1026180,
          487690,
          1385522,
          483689,
          145865,
          671284,
          3366715,
          9630,
          34,
          438,
          149,
          2,
          2628,
          1066,
          363809,
          21245,
          359689,
          313,
          2834,
          58907,
          208209,
          139281,
          17,
          4726,
          1231597,
          3649,
          2050360,
          48380,
          23316,
          7008,
          489471,
          477983,
          12364,
          827,
          13308,
          509,
          10296,
          3957,
          7265,
          159276,
          1503031,
          37742,
          1150265,
          230578,
          3081368,
          22406746,
          26186,
          77572,
          1,
          116610,
          1514,
          2104,
          27728,
          21477
         ]
        }
       ],
       "layout": {
        "geo": {
         "projection": {
          "type": "kavrayskiy7"
         },
         "showframe": false
        },
        "template": {
         "data": {
          "bar": [
           {
            "error_x": {
             "color": "#2a3f5f"
            },
            "error_y": {
             "color": "#2a3f5f"
            },
            "marker": {
             "line": {
              "color": "#E5ECF6",
              "width": 0.5
             }
            },
            "type": "bar"
           }
          ],
          "barpolar": [
           {
            "marker": {
             "line": {
              "color": "#E5ECF6",
              "width": 0.5
             }
            },
            "type": "barpolar"
           }
          ],
          "carpet": [
           {
            "aaxis": {
             "endlinecolor": "#2a3f5f",
             "gridcolor": "white",
             "linecolor": "white",
             "minorgridcolor": "white",
             "startlinecolor": "#2a3f5f"
            },
            "baxis": {
             "endlinecolor": "#2a3f5f",
             "gridcolor": "white",
             "linecolor": "white",
             "minorgridcolor": "white",
             "startlinecolor": "#2a3f5f"
            },
            "type": "carpet"
           }
          ],
          "choropleth": [
           {
            "colorbar": {
             "outlinewidth": 0,
             "ticks": ""
            },
            "type": "choropleth"
           }
          ],
          "contour": [
           {
            "colorbar": {
             "outlinewidth": 0,
             "ticks": ""
            },
            "colorscale": [
             [
              0,
              "#0d0887"
             ],
             [
              0.1111111111111111,
              "#46039f"
             ],
             [
              0.2222222222222222,
              "#7201a8"
             ],
             [
              0.3333333333333333,
              "#9c179e"
             ],
             [
              0.4444444444444444,
              "#bd3786"
             ],
             [
              0.5555555555555556,
              "#d8576b"
             ],
             [
              0.6666666666666666,
              "#ed7953"
             ],
             [
              0.7777777777777778,
              "#fb9f3a"
             ],
             [
              0.8888888888888888,
              "#fdca26"
             ],
             [
              1,
              "#f0f921"
             ]
            ],
            "type": "contour"
           }
          ],
          "contourcarpet": [
           {
            "colorbar": {
             "outlinewidth": 0,
             "ticks": ""
            },
            "type": "contourcarpet"
           }
          ],
          "heatmap": [
           {
            "colorbar": {
             "outlinewidth": 0,
             "ticks": ""
            },
            "colorscale": [
             [
              0,
              "#0d0887"
             ],
             [
              0.1111111111111111,
              "#46039f"
             ],
             [
              0.2222222222222222,
              "#7201a8"
             ],
             [
              0.3333333333333333,
              "#9c179e"
             ],
             [
              0.4444444444444444,
              "#bd3786"
             ],
             [
              0.5555555555555556,
              "#d8576b"
             ],
             [
              0.6666666666666666,
              "#ed7953"
             ],
             [
              0.7777777777777778,
              "#fb9f3a"
             ],
             [
              0.8888888888888888,
              "#fdca26"
             ],
             [
              1,
              "#f0f921"
             ]
            ],
            "type": "heatmap"
           }
          ],
          "heatmapgl": [
           {
            "colorbar": {
             "outlinewidth": 0,
             "ticks": ""
            },
            "colorscale": [
             [
              0,
              "#0d0887"
             ],
             [
              0.1111111111111111,
              "#46039f"
             ],
             [
              0.2222222222222222,
              "#7201a8"
             ],
             [
              0.3333333333333333,
              "#9c179e"
             ],
             [
              0.4444444444444444,
              "#bd3786"
             ],
             [
              0.5555555555555556,
              "#d8576b"
             ],
             [
              0.6666666666666666,
              "#ed7953"
             ],
             [
              0.7777777777777778,
              "#fb9f3a"
             ],
             [
              0.8888888888888888,
              "#fdca26"
             ],
             [
              1,
              "#f0f921"
             ]
            ],
            "type": "heatmapgl"
           }
          ],
          "histogram": [
           {
            "marker": {
             "colorbar": {
              "outlinewidth": 0,
              "ticks": ""
             }
            },
            "type": "histogram"
           }
          ],
          "histogram2d": [
           {
            "colorbar": {
             "outlinewidth": 0,
             "ticks": ""
            },
            "colorscale": [
             [
              0,
              "#0d0887"
             ],
             [
              0.1111111111111111,
              "#46039f"
             ],
             [
              0.2222222222222222,
              "#7201a8"
             ],
             [
              0.3333333333333333,
              "#9c179e"
             ],
             [
              0.4444444444444444,
              "#bd3786"
             ],
             [
              0.5555555555555556,
              "#d8576b"
             ],
             [
              0.6666666666666666,
              "#ed7953"
             ],
             [
              0.7777777777777778,
              "#fb9f3a"
             ],
             [
              0.8888888888888888,
              "#fdca26"
             ],
             [
              1,
              "#f0f921"
             ]
            ],
            "type": "histogram2d"
           }
          ],
          "histogram2dcontour": [
           {
            "colorbar": {
             "outlinewidth": 0,
             "ticks": ""
            },
            "colorscale": [
             [
              0,
              "#0d0887"
             ],
             [
              0.1111111111111111,
              "#46039f"
             ],
             [
              0.2222222222222222,
              "#7201a8"
             ],
             [
              0.3333333333333333,
              "#9c179e"
             ],
             [
              0.4444444444444444,
              "#bd3786"
             ],
             [
              0.5555555555555556,
              "#d8576b"
             ],
             [
              0.6666666666666666,
              "#ed7953"
             ],
             [
              0.7777777777777778,
              "#fb9f3a"
             ],
             [
              0.8888888888888888,
              "#fdca26"
             ],
             [
              1,
              "#f0f921"
             ]
            ],
            "type": "histogram2dcontour"
           }
          ],
          "mesh3d": [
           {
            "colorbar": {
             "outlinewidth": 0,
             "ticks": ""
            },
            "type": "mesh3d"
           }
          ],
          "parcoords": [
           {
            "line": {
             "colorbar": {
              "outlinewidth": 0,
              "ticks": ""
             }
            },
            "type": "parcoords"
           }
          ],
          "pie": [
           {
            "automargin": true,
            "type": "pie"
           }
          ],
          "scatter": [
           {
            "marker": {
             "colorbar": {
              "outlinewidth": 0,
              "ticks": ""
             }
            },
            "type": "scatter"
           }
          ],
          "scatter3d": [
           {
            "line": {
             "colorbar": {
              "outlinewidth": 0,
              "ticks": ""
             }
            },
            "marker": {
             "colorbar": {
              "outlinewidth": 0,
              "ticks": ""
             }
            },
            "type": "scatter3d"
           }
          ],
          "scattercarpet": [
           {
            "marker": {
             "colorbar": {
              "outlinewidth": 0,
              "ticks": ""
             }
            },
            "type": "scattercarpet"
           }
          ],
          "scattergeo": [
           {
            "marker": {
             "colorbar": {
              "outlinewidth": 0,
              "ticks": ""
             }
            },
            "type": "scattergeo"
           }
          ],
          "scattergl": [
           {
            "marker": {
             "colorbar": {
              "outlinewidth": 0,
              "ticks": ""
             }
            },
            "type": "scattergl"
           }
          ],
          "scattermapbox": [
           {
            "marker": {
             "colorbar": {
              "outlinewidth": 0,
              "ticks": ""
             }
            },
            "type": "scattermapbox"
           }
          ],
          "scatterpolar": [
           {
            "marker": {
             "colorbar": {
              "outlinewidth": 0,
              "ticks": ""
             }
            },
            "type": "scatterpolar"
           }
          ],
          "scatterpolargl": [
           {
            "marker": {
             "colorbar": {
              "outlinewidth": 0,
              "ticks": ""
             }
            },
            "type": "scatterpolargl"
           }
          ],
          "scatterternary": [
           {
            "marker": {
             "colorbar": {
              "outlinewidth": 0,
              "ticks": ""
             }
            },
            "type": "scatterternary"
           }
          ],
          "surface": [
           {
            "colorbar": {
             "outlinewidth": 0,
             "ticks": ""
            },
            "colorscale": [
             [
              0,
              "#0d0887"
             ],
             [
              0.1111111111111111,
              "#46039f"
             ],
             [
              0.2222222222222222,
              "#7201a8"
             ],
             [
              0.3333333333333333,
              "#9c179e"
             ],
             [
              0.4444444444444444,
              "#bd3786"
             ],
             [
              0.5555555555555556,
              "#d8576b"
             ],
             [
              0.6666666666666666,
              "#ed7953"
             ],
             [
              0.7777777777777778,
              "#fb9f3a"
             ],
             [
              0.8888888888888888,
              "#fdca26"
             ],
             [
              1,
              "#f0f921"
             ]
            ],
            "type": "surface"
           }
          ],
          "table": [
           {
            "cells": {
             "fill": {
              "color": "#EBF0F8"
             },
             "line": {
              "color": "white"
             }
            },
            "header": {
             "fill": {
              "color": "#C8D4E3"
             },
             "line": {
              "color": "white"
             }
            },
            "type": "table"
           }
          ]
         },
         "layout": {
          "annotationdefaults": {
           "arrowcolor": "#2a3f5f",
           "arrowhead": 0,
           "arrowwidth": 1
          },
          "autotypenumbers": "strict",
          "coloraxis": {
           "colorbar": {
            "outlinewidth": 0,
            "ticks": ""
           }
          },
          "colorscale": {
           "diverging": [
            [
             0,
             "#8e0152"
            ],
            [
             0.1,
             "#c51b7d"
            ],
            [
             0.2,
             "#de77ae"
            ],
            [
             0.3,
             "#f1b6da"
            ],
            [
             0.4,
             "#fde0ef"
            ],
            [
             0.5,
             "#f7f7f7"
            ],
            [
             0.6,
             "#e6f5d0"
            ],
            [
             0.7,
             "#b8e186"
            ],
            [
             0.8,
             "#7fbc41"
            ],
            [
             0.9,
             "#4d9221"
            ],
            [
             1,
             "#276419"
            ]
           ],
           "sequential": [
            [
             0,
             "#0d0887"
            ],
            [
             0.1111111111111111,
             "#46039f"
            ],
            [
             0.2222222222222222,
             "#7201a8"
            ],
            [
             0.3333333333333333,
             "#9c179e"
            ],
            [
             0.4444444444444444,
             "#bd3786"
            ],
            [
             0.5555555555555556,
             "#d8576b"
            ],
            [
             0.6666666666666666,
             "#ed7953"
            ],
            [
             0.7777777777777778,
             "#fb9f3a"
            ],
            [
             0.8888888888888888,
             "#fdca26"
            ],
            [
             1,
             "#f0f921"
            ]
           ],
           "sequentialminus": [
            [
             0,
             "#0d0887"
            ],
            [
             0.1111111111111111,
             "#46039f"
            ],
            [
             0.2222222222222222,
             "#7201a8"
            ],
            [
             0.3333333333333333,
             "#9c179e"
            ],
            [
             0.4444444444444444,
             "#bd3786"
            ],
            [
             0.5555555555555556,
             "#d8576b"
            ],
            [
             0.6666666666666666,
             "#ed7953"
            ],
            [
             0.7777777777777778,
             "#fb9f3a"
            ],
            [
             0.8888888888888888,
             "#fdca26"
            ],
            [
             1,
             "#f0f921"
            ]
           ]
          },
          "colorway": [
           "#636efa",
           "#EF553B",
           "#00cc96",
           "#ab63fa",
           "#FFA15A",
           "#19d3f3",
           "#FF6692",
           "#B6E880",
           "#FF97FF",
           "#FECB52"
          ],
          "font": {
           "color": "#2a3f5f"
          },
          "geo": {
           "bgcolor": "white",
           "lakecolor": "white",
           "landcolor": "#E5ECF6",
           "showlakes": true,
           "showland": true,
           "subunitcolor": "white"
          },
          "hoverlabel": {
           "align": "left"
          },
          "hovermode": "closest",
          "mapbox": {
           "style": "light"
          },
          "paper_bgcolor": "white",
          "plot_bgcolor": "#E5ECF6",
          "polar": {
           "angularaxis": {
            "gridcolor": "white",
            "linecolor": "white",
            "ticks": ""
           },
           "bgcolor": "#E5ECF6",
           "radialaxis": {
            "gridcolor": "white",
            "linecolor": "white",
            "ticks": ""
           }
          },
          "scene": {
           "xaxis": {
            "backgroundcolor": "#E5ECF6",
            "gridcolor": "white",
            "gridwidth": 2,
            "linecolor": "white",
            "showbackground": true,
            "ticks": "",
            "zerolinecolor": "white"
           },
           "yaxis": {
            "backgroundcolor": "#E5ECF6",
            "gridcolor": "white",
            "gridwidth": 2,
            "linecolor": "white",
            "showbackground": true,
            "ticks": "",
            "zerolinecolor": "white"
           },
           "zaxis": {
            "backgroundcolor": "#E5ECF6",
            "gridcolor": "white",
            "gridwidth": 2,
            "linecolor": "white",
            "showbackground": true,
            "ticks": "",
            "zerolinecolor": "white"
           }
          },
          "shapedefaults": {
           "line": {
            "color": "#2a3f5f"
           }
          },
          "ternary": {
           "aaxis": {
            "gridcolor": "white",
            "linecolor": "white",
            "ticks": ""
           },
           "baxis": {
            "gridcolor": "white",
            "linecolor": "white",
            "ticks": ""
           },
           "bgcolor": "#E5ECF6",
           "caxis": {
            "gridcolor": "white",
            "linecolor": "white",
            "ticks": ""
           }
          },
          "title": {
           "x": 0.05
          },
          "xaxis": {
           "automargin": true,
           "gridcolor": "white",
           "linecolor": "white",
           "ticks": "",
           "title": {
            "standoff": 15
           },
           "zerolinecolor": "white",
           "zerolinewidth": 2
          },
          "yaxis": {
           "automargin": true,
           "gridcolor": "white",
           "linecolor": "white",
           "ticks": "",
           "title": {
            "standoff": 15
           },
           "zerolinecolor": "white",
           "zerolinewidth": 2
          }
         }
        },
        "title": {
         "text": "Covid19 cases and deaths world wide"
        }
       }
      },
      "text/html": [
       "<div>                            <div id=\"6d933af8-36b2-4e23-9369-f5c11d60e986\" class=\"plotly-graph-div\" style=\"height:525px; width:100%;\"></div>            <script type=\"text/javascript\">                require([\"plotly\"], function(Plotly) {                    window.PLOTLYENV=window.PLOTLYENV || {};                                    if (document.getElementById(\"6d933af8-36b2-4e23-9369-f5c11d60e986\")) {                    Plotly.newPlot(                        \"6d933af8-36b2-4e23-9369-f5c11d60e986\",                        [{\"colorbar\": {\"title\": {\"text\": \"Covid Cases\"}}, \"locations\": [\"AFG\", \"ALB\", \"DZA\", \"AND\", \"AGO\", \"ATG\", \"ARG\", \"ARM\", \"AUS\", \"AUT\", \"AZE\", \"BHR\", \"BGD\", \"BRB\", \"BLR\", \"BEL\", \"BLZ\", \"BEN\", \"BTN\", \"BOL\", \"BIH\", \"BWA\", \"BRA\", \"BRN\", \"BGR\", \"BFA\", \"BDI\", \"KHM\", \"CMR\", \"CAN\", \"CAF\", \"TCD\", \"CHL\", \"CHN\", \"COL\", \"COM\", \"CRI\", \"CIV\", \"HRV\", \"CUB\", \"CYP\", \"DNK\", \"DJI\", \"DMA\", \"DOM\", \"ECU\", \"EGY\", \"SLV\", \"GNQ\", \"ERI\", \"EST\", \"ETH\", \"FJI\", \"FIN\", \"FRA\", \"GAB\", \"GEO\", \"DEU\", \"GHA\", \"GRC\", \"GRD\", \"GTM\", \"GIN\", \"GNB\", \"GUY\", \"HTI\", \"HND\", \"HKG\", \"HUN\", \"ISL\", \"IND\", \"IDN\", \"IRN\", \"IRQ\", \"IRL\", \"ISR\", \"ITA\", \"JAM\", \"JPN\", \"JOR\", \"KAZ\", \"KEN\", \"KSV\", \"KWT\", \"KGZ\", \"LAO\", \"LVA\", \"LBN\", \"LSO\", \"LBR\", \"LBY\", \"LIE\", \"LTU\", \"LUX\", \"MDG\", \"MWI\", \"MYS\", \"MDV\", \"MLI\", \"MLT\", \"MHL\", \"MRT\", \"MUS\", \"MEX\", \"MDA\", \"MCO\", \"MNG\", \"MNE\", \"MAR\", \"MOZ\", \"NAM\", \"NPL\", \"NLD\", \"NZL\", \"NIC\", \"NER\", \"NGA\", \"NOR\", \"OMN\", \"PAK\", \"PAN\", \"PNG\", \"PRY\", \"PER\", \"PHL\", \"POL\", \"PRT\", \"QAT\", \"ROU\", \"RUS\", \"RWA\", \"KNA\", \"LCA\", \"VCT\", \"WSM\", \"SMR\", \"STP\", \"SAU\", \"SEN\", \"SRB\", \"SYC\", \"SLE\", \"SGP\", \"SVK\", \"SVN\", \"SLB\", \"SOM\", \"ZAF\", \"SSD\", \"ESP\", \"LKA\", \"SDN\", \"SUR\", \"SWE\", \"CHE\", \"SYR\", \"TWN\", \"TJK\", \"TZA\", \"THA\", \"TGO\", \"TTO\", \"TUN\", \"TUR\", \"UGA\", \"UKR\", \"ARE\", \"GBR\", \"USA\", \"URY\", \"UZB\", \"VUT\", \"VEN\", \"VNM\", \"YEM\", \"ZMB\", \"ZWE\"], \"text\": [\"Afghanistan<br>Total Cases =53489.0<br>Total Deaths =2277.0\", \"Albania<br>Total Cases =63595.0<br>Total Deaths =1241.0\", \"Algeria<br>Total Cases =102144.0<br>Total Deaths =2807.0\", \"Andorra<br>Total Cases =8586.0<br>Total Deaths =85.0\", \"Angola<br>Total Cases =18193.0<br>Total Deaths =416.0\", \"Antigua and Barbuda<br>Total Cases =176.0<br>Total Deaths =5.0\", \"Argentina<br>Total Cases =1722217.0<br>Total Deaths =44495.0\", \"Armenia<br>Total Cases =162131.0<br>Total Deaths =2929.0\", \"Australia<br>Total Cases =28614.0<br>Total Deaths =909.0\", \"Austria<br>Total Cases =380722.0<br>Total Deaths =6723.0\", \"Azerbaijan<br>Total Cases =224651.0<br>Total Deaths =2909.0\", \"Bahrain<br>Total Cases =95558.0<br>Total Deaths =356.0\", \"Bangladesh<br>Total Cases =522453.0<br>Total Deaths =7781.0\", \"Barbados<br>Total Cases =878.0<br>Total Deaths =7.0\", \"Belarus<br>Total Cases =212201.0<br>Total Deaths =1517.0\", \"Belgium<br>Total Cases =664263.0<br>Total Deaths =20078.0\", \"Belize<br>Total Cases =11303.0<br>Total Deaths =274.0\", \"Benin<br>Total Cases =3304.0<br>Total Deaths =44.0\", \"Bhutan<br>Total Cases =767.0<br>Total Deaths =0.0\", \"Bolivia<br>Total Cases =173896.0<br>Total Deaths =9376.0\", \"Bosnia and Herzegovina<br>Total Cases =115633.0<br>Total Deaths =4330.0\", \"Botswana<br>Total Cases =16050.0<br>Total Deaths =48.0\", \"Brazil<br>Total Cases =8105790.0<br>Total Deaths =203100.0\", \"Brunei<br>Total Cases =173.0<br>Total Deaths =3.0\", \"Bulgaria<br>Total Cases =208511.0<br>Total Deaths =8126.0\", \"Burkina Faso<br>Total Cases =8082.0<br>Total Deaths =89.0\", \"Burundi<br>Total Cases =986.0<br>Total Deaths =2.0\", \"Cambodia<br>Total Cases =391.0<br>Total Deaths =0.0\", \"Cameroon<br>Total Cases =26848.0<br>Total Deaths =448.0\", \"Canada<br>Total Cases =664606.0<br>Total Deaths =16960.0\", \"Central African Republic<br>Total Cases =4973.0<br>Total Deaths =63.0\", \"Chad<br>Total Cases =2537.0<br>Total Deaths =107.0\", \"Chile<br>Total Cases =641923.0<br>Total Deaths =17096.0\", \"China<br>Total Cases =96276.0<br>Total Deaths =4775.0\", \"Colombia<br>Total Cases =1786900.0<br>Total Deaths =46114.0\", \"Comoros<br>Total Cases =1150.0<br>Total Deaths =18.0\", \"Costa Rica<br>Total Cases =177614.0<br>Total Deaths =2305.0\", \"Cote d'Ivoire<br>Total Cases =23750.0<br>Total Deaths =139.0\", \"Croatia<br>Total Cases =219993.0<br>Total Deaths =4368.0\", \"Cuba<br>Total Cases =14576.0<br>Total Deaths =151.0\", \"Cyprus<br>Total Cases =27350.0<br>Total Deaths =148.0\", \"Denmark<br>Total Cases =182161.0<br>Total Deaths =1571.0\", \"Djibouti<br>Total Cases =5871.0<br>Total Deaths =61.0\", \"Dominica<br>Total Cases =106.0<br>Total Deaths =0.0\", \"Dominican Republic<br>Total Cases =182103.0<br>Total Deaths =2427.0\", \"Ecuador<br>Total Cases =221070.0<br>Total Deaths =14177.0\", \"Egypt<br>Total Cases =149792.0<br>Total Deaths =8197.0\", \"El Salvador<br>Total Cases =48905.0<br>Total Deaths =1419.0\", \"Equatorial Guinea<br>Total Cases =5289.0<br>Total Deaths =86.0\", \"Eritrea<br>Total Cases =1445.0<br>Total Deaths =3.0\", \"Estonia<br>Total Cases =33516.0<br>Total Deaths =283.0\", \"Ethiopia<br>Total Cases =128316.0<br>Total Deaths =1994.0\", \"Fiji<br>Total Cases =53.0<br>Total Deaths =2.0\", \"Finland<br>Total Cases =38590.0<br>Total Deaths =586.0\", \"France<br>Total Cases =2840864.0<br>Total Deaths =67885.0\", \"Gabon<br>Total Cases =9694.0<br>Total Deaths =66.0\", \"Georgia<br>Total Cases =239229.0<br>Total Deaths =2773.0\", \"Germany<br>Total Cases =1929410.0<br>Total Deaths =40936.0\", \"Ghana<br>Total Cases =55772.0<br>Total Deaths =336.0\", \"Greece<br>Total Cases =144738.0<br>Total Deaths =5263.0\", \"Grenada<br>Total Cases =127.0<br>Total Deaths =0.0\", \"Guatemala<br>Total Cases =143243.0<br>Total Deaths =5025.0\", \"Guinea<br>Total Cases =13942.0<br>Total Deaths =81.0\", \"Guinea-Bissau<br>Total Cases =2478.0<br>Total Deaths =45.0\", \"Guyana<br>Total Cases =6574.0<br>Total Deaths =169.0\", \"Haiti<br>Total Cases =10272.0<br>Total Deaths =238.0\", \"Honduras<br>Total Cases =127945.0<br>Total Deaths =3273.0\", \"Hong Kong<br>Total Cases =0.0<br>Total Deaths =0.0\", \"Hungary<br>Total Cases =342237.0<br>Total Deaths =10648.0\", \"Iceland<br>Total Cases =5890.0<br>Total Deaths =29.0\", \"India<br>Total Cases =10466595.0<br>Total Deaths =151160.0\", \"Indonesia<br>Total Cases =828026.0<br>Total Deaths =24129.0\", \"Iran<br>Total Cases =1286406.0<br>Total Deaths =56171.0\", \"Iraq<br>Total Cases =602938.0<br>Total Deaths =12895.0\", \"Ireland<br>Total Cases =147613.0<br>Total Deaths =2344.0\", \"Israel<br>Total Cases =491319.0<br>Total Deaths =3671.0\", \"Italy<br>Total Cases =2276491.0<br>Total Deaths =78755.0\", \"Jamaica<br>Total Cases =13548.0<br>Total Deaths =312.0\", \"Japan<br>Total Cases =288816.0<br>Total Deaths =3850.0\", \"Jordan<br>Total Cases =307209.0<br>Total Deaths =4024.0\", \"Kazakhstan<br>Total Cases =209369.0<br>Total Deaths =2844.0\", \"Kenya<br>Total Cases =98271.0<br>Total Deaths =1710.0\", \"Kosovo<br>Total Cases =53776.0<br>Total Deaths =1377.0\", \"Kuwait<br>Total Cases =154314.0<br>Total Deaths =943.0\", \"Kyrgyzstan<br>Total Cases =82273.0<br>Total Deaths =1369.0\", \"Laos<br>Total Cases =41.0<br>Total Deaths =0.0\", \"Latvia<br>Total Cases =49568.0<br>Total Deaths =849.0\", \"Lebanon<br>Total Cases =219296.0<br>Total Deaths =1606.0\", \"Lesotho<br>Total Cases =5937.0<br>Total Deaths =85.0\", \"Liberia<br>Total Cases =1779.0<br>Total Deaths =83.0\", \"Libya<br>Total Cases =104745.0<br>Total Deaths =1581.0\", \"Liechtenstein<br>Total Cases =2340.0<br>Total Deaths =49.0\", \"Lithuania<br>Total Cases =159672.0<br>Total Deaths =2197.0\", \"Luxembourg<br>Total Cases =47744.0<br>Total Deaths =527.0\", \"Madagascar<br>Total Cases =18001.0<br>Total Deaths =267.0\", \"Malawi<br>Total Cases =8575.0<br>Total Deaths =225.0\", \"Malaysia<br>Total Cases =135992.0<br>Total Deaths =551.0\", \"Maldives<br>Total Cases =14109.0<br>Total Deaths =49.0\", \"Mali<br>Total Cases =7600.0<br>Total Deaths =298.0\", \"Malta<br>Total Cases =14396.0<br>Total Deaths =233.0\", \"Marshall Islands<br>Total Cases =4.0<br>Total Deaths =0.0\", \"Mauritania<br>Total Cases =15512.0<br>Total Deaths =384.0\", \"Mauritius<br>Total Cases =539.0<br>Total Deaths =10.0\", \"Mexico<br>Total Cases =1534039.0<br>Total Deaths =133706.0\", \"Moldova<br>Total Cases =149391.0<br>Total Deaths =3139.0\", \"Monaco<br>Total Cases =1057.0<br>Total Deaths =4.0\", \"Mongolia<br>Total Cases =1442.0<br>Total Deaths =2.0\", \"Montenegro<br>Total Cases =52431.0<br>Total Deaths =725.0\", \"Morocco<br>Total Cases =452532.0<br>Total Deaths =7743.0\", \"Mozambique<br>Total Cases =21939.0<br>Total Deaths =192.0\", \"Namibia<br>Total Cases =28259.0<br>Total Deaths =254.0\", \"Nepal<br>Total Cases =264780.0<br>Total Deaths =1917.0\", \"Netherlands<br>Total Cases =885098.0<br>Total Deaths =12461.0\", \"New Zealand<br>Total Cases =2222.0<br>Total Deaths =25.0\", \"Nicaragua<br>Total Cases =6097.0<br>Total Deaths =166.0\", \"Niger<br>Total Cases =3877.0<br>Total Deaths =126.0\", \"Nigeria<br>Total Cases =100087.0<br>Total Deaths =1358.0\", \"Norway<br>Total Cases =55474.0<br>Total Deaths =472.0\", \"Oman<br>Total Cases =130608.0<br>Total Deaths =1508.0\", \"Pakistan<br>Total Cases =504293.0<br>Total Deaths =10676.0\", \"Panama<br>Total Cases =279196.0<br>Total Deaths =4455.0\", \"Papua New Guinea<br>Total Cases =811.0<br>Total Deaths =9.0\", \"Paraguay<br>Total Cases =115733.0<br>Total Deaths =2405.0\", \"Peru<br>Total Cases =1026180.0<br>Total Deaths =38049.0\", \"Philippines<br>Total Cases =487690.0<br>Total Deaths =9405.0\", \"Poland<br>Total Cases =1385522.0<br>Total Deaths =31189.0\", \"Portugal<br>Total Cases =483689.0<br>Total Deaths =7803.0\", \"Qatar<br>Total Cases =145865.0<br>Total Deaths =246.0\", \"Romania<br>Total Cases =671284.0<br>Total Deaths =16654.0\", \"Russia<br>Total Cases =3366715.0<br>Total Deaths =60963.0\", \"Rwanda<br>Total Cases =9630.0<br>Total Deaths =120.0\", \"Saint Kitts and Nevis<br>Total Cases =34.0<br>Total Deaths =0.0\", \"Saint Lucia<br>Total Cases =438.0<br>Total Deaths =5.0\", \"Saint Vincent and the Grenadines<br>Total Cases =149.0<br>Total Deaths =0.0\", \"Samoa<br>Total Cases =2.0<br>Total Deaths =0.0\", \"San Marino<br>Total Cases =2628.0<br>Total Deaths =64.0\", \"Sao Tome and Principe<br>Total Cases =1066.0<br>Total Deaths =17.0\", \"Saudi Arabia<br>Total Cases =363809.0<br>Total Deaths =6291.0\", \"Senegal<br>Total Cases =21245.0<br>Total Deaths =465.0\", \"Serbia<br>Total Cases =359689.0<br>Total Deaths =3582.0\", \"Seychelles<br>Total Cases =313.0<br>Total Deaths =0.0\", \"Sierra Leone<br>Total Cases =2834.0<br>Total Deaths =77.0\", \"Singapore<br>Total Cases =58907.0<br>Total Deaths =29.0\", \"Slovakia<br>Total Cases =208209.0<br>Total Deaths =2918.0\", \"Slovenia<br>Total Cases =139281.0<br>Total Deaths =2998.0\", \"Solomon Islands<br>Total Cases =17.0<br>Total Deaths =0.0\", \"Somalia<br>Total Cases =4726.0<br>Total Deaths =130.0\", \"South Africa<br>Total Cases =1231597.0<br>Total Deaths =33163.0\", \"South Sudan<br>Total Cases =3649.0<br>Total Deaths =63.0\", \"Spain<br>Total Cases =2050360.0<br>Total Deaths =51874.0\", \"Sri Lanka<br>Total Cases =48380.0<br>Total Deaths =232.0\", \"Sudan<br>Total Cases =23316.0<br>Total Deaths =1468.0\", \"Suriname<br>Total Cases =7008.0<br>Total Deaths =133.0\", \"Sweden<br>Total Cases =489471.0<br>Total Deaths =9433.0\", \"Switzerland<br>Total Cases =477983.0<br>Total Deaths =8267.0\", \"Syria<br>Total Cases =12364.0<br>Total Deaths =774.0\", \"Taiwan<br>Total Cases =827.0<br>Total Deaths =7.0\", \"Tajikistan<br>Total Cases =13308.0<br>Total Deaths =90.0\", \"Tanzania<br>Total Cases =509.0<br>Total Deaths =21.0\", \"Thailand<br>Total Cases =10296.0<br>Total Deaths =67.0\", \"Togo<br>Total Cases =3957.0<br>Total Deaths =72.0\", \"Trinidad and Tobago<br>Total Cases =7265.0<br>Total Deaths =128.0\", \"Tunisia<br>Total Cases =159276.0<br>Total Deaths =5215.0\", \"Turkey<br>Total Cases =1503031.0<br>Total Deaths =22807.0\", \"Uganda<br>Total Cases =37742.0<br>Total Deaths =301.0\", \"Ukraine<br>Total Cases =1150265.0<br>Total Deaths =20641.0\", \"United Arab Emirates<br>Total Cases =230578.0<br>Total Deaths =708.0\", \"United Kingdom<br>Total Cases =3081368.0<br>Total Deaths =81567.0\", \"United States<br>Total Cases =22406746.0<br>Total Deaths =374322.0\", \"Uruguay<br>Total Cases =26186.0<br>Total Deaths =256.0\", \"Uzbekistan<br>Total Cases =77572.0<br>Total Deaths =617.0\", \"Vanuatu<br>Total Cases =1.0<br>Total Deaths =0.0\", \"Venezuela<br>Total Cases =116610.0<br>Total Deaths =1061.0\", \"Vietnam<br>Total Cases =1514.0<br>Total Deaths =35.0\", \"Yemen<br>Total Cases =2104.0<br>Total Deaths =611.0\", \"Zambia<br>Total Cases =27728.0<br>Total Deaths =469.0\", \"Zimbabwe<br>Total Cases =21477.0<br>Total Deaths =507.0\"], \"type\": \"choropleth\", \"z\": [53489.0, 63595.0, 102144.0, 8586.0, 18193.0, 176.0, 1722217.0, 162131.0, 28614.0, 380722.0, 224651.0, 95558.0, 522453.0, 878.0, 212201.0, 664263.0, 11303.0, 3304.0, 767.0, 173896.0, 115633.0, 16050.0, 8105790.0, 173.0, 208511.0, 8082.0, 986.0, 391.0, 26848.0, 664606.0, 4973.0, 2537.0, 641923.0, 96276.0, 1786900.0, 1150.0, 177614.0, 23750.0, 219993.0, 14576.0, 27350.0, 182161.0, 5871.0, 106.0, 182103.0, 221070.0, 149792.0, 48905.0, 5289.0, 1445.0, 33516.0, 128316.0, 53.0, 38590.0, 2840864.0, 9694.0, 239229.0, 1929410.0, 55772.0, 144738.0, 127.0, 143243.0, 13942.0, 2478.0, 6574.0, 10272.0, 127945.0, 0.0, 342237.0, 5890.0, 10466595.0, 828026.0, 1286406.0, 602938.0, 147613.0, 491319.0, 2276491.0, 13548.0, 288816.0, 307209.0, 209369.0, 98271.0, 53776.0, 154314.0, 82273.0, 41.0, 49568.0, 219296.0, 5937.0, 1779.0, 104745.0, 2340.0, 159672.0, 47744.0, 18001.0, 8575.0, 135992.0, 14109.0, 7600.0, 14396.0, 4.0, 15512.0, 539.0, 1534039.0, 149391.0, 1057.0, 1442.0, 52431.0, 452532.0, 21939.0, 28259.0, 264780.0, 885098.0, 2222.0, 6097.0, 3877.0, 100087.0, 55474.0, 130608.0, 504293.0, 279196.0, 811.0, 115733.0, 1026180.0, 487690.0, 1385522.0, 483689.0, 145865.0, 671284.0, 3366715.0, 9630.0, 34.0, 438.0, 149.0, 2.0, 2628.0, 1066.0, 363809.0, 21245.0, 359689.0, 313.0, 2834.0, 58907.0, 208209.0, 139281.0, 17.0, 4726.0, 1231597.0, 3649.0, 2050360.0, 48380.0, 23316.0, 7008.0, 489471.0, 477983.0, 12364.0, 827.0, 13308.0, 509.0, 10296.0, 3957.0, 7265.0, 159276.0, 1503031.0, 37742.0, 1150265.0, 230578.0, 3081368.0, 22406746.0, 26186.0, 77572.0, 1.0, 116610.0, 1514.0, 2104.0, 27728.0, 21477.0]}],                        {\"geo\": {\"projection\": {\"type\": \"kavrayskiy7\"}, \"showframe\": false}, \"template\": {\"data\": {\"bar\": [{\"error_x\": {\"color\": \"#2a3f5f\"}, \"error_y\": {\"color\": \"#2a3f5f\"}, \"marker\": {\"line\": {\"color\": \"#E5ECF6\", \"width\": 0.5}}, \"type\": \"bar\"}], \"barpolar\": [{\"marker\": {\"line\": {\"color\": \"#E5ECF6\", \"width\": 0.5}}, \"type\": \"barpolar\"}], \"carpet\": [{\"aaxis\": {\"endlinecolor\": \"#2a3f5f\", \"gridcolor\": \"white\", \"linecolor\": \"white\", \"minorgridcolor\": \"white\", \"startlinecolor\": \"#2a3f5f\"}, \"baxis\": {\"endlinecolor\": \"#2a3f5f\", \"gridcolor\": \"white\", \"linecolor\": \"white\", \"minorgridcolor\": \"white\", \"startlinecolor\": \"#2a3f5f\"}, \"type\": \"carpet\"}], \"choropleth\": [{\"colorbar\": {\"outlinewidth\": 0, \"ticks\": \"\"}, \"type\": \"choropleth\"}], \"contour\": [{\"colorbar\": {\"outlinewidth\": 0, \"ticks\": \"\"}, \"colorscale\": [[0.0, \"#0d0887\"], [0.1111111111111111, \"#46039f\"], [0.2222222222222222, \"#7201a8\"], [0.3333333333333333, \"#9c179e\"], [0.4444444444444444, \"#bd3786\"], [0.5555555555555556, \"#d8576b\"], [0.6666666666666666, \"#ed7953\"], [0.7777777777777778, \"#fb9f3a\"], [0.8888888888888888, \"#fdca26\"], [1.0, \"#f0f921\"]], \"type\": \"contour\"}], \"contourcarpet\": [{\"colorbar\": {\"outlinewidth\": 0, \"ticks\": \"\"}, \"type\": \"contourcarpet\"}], \"heatmap\": [{\"colorbar\": {\"outlinewidth\": 0, \"ticks\": \"\"}, \"colorscale\": [[0.0, \"#0d0887\"], [0.1111111111111111, \"#46039f\"], [0.2222222222222222, \"#7201a8\"], [0.3333333333333333, \"#9c179e\"], [0.4444444444444444, \"#bd3786\"], [0.5555555555555556, \"#d8576b\"], [0.6666666666666666, \"#ed7953\"], [0.7777777777777778, \"#fb9f3a\"], [0.8888888888888888, \"#fdca26\"], [1.0, \"#f0f921\"]], \"type\": \"heatmap\"}], \"heatmapgl\": [{\"colorbar\": {\"outlinewidth\": 0, \"ticks\": \"\"}, \"colorscale\": [[0.0, \"#0d0887\"], [0.1111111111111111, \"#46039f\"], [0.2222222222222222, \"#7201a8\"], [0.3333333333333333, \"#9c179e\"], [0.4444444444444444, \"#bd3786\"], [0.5555555555555556, \"#d8576b\"], [0.6666666666666666, \"#ed7953\"], [0.7777777777777778, \"#fb9f3a\"], [0.8888888888888888, \"#fdca26\"], [1.0, \"#f0f921\"]], \"type\": \"heatmapgl\"}], \"histogram\": [{\"marker\": {\"colorbar\": {\"outlinewidth\": 0, \"ticks\": \"\"}}, \"type\": \"histogram\"}], \"histogram2d\": [{\"colorbar\": {\"outlinewidth\": 0, \"ticks\": \"\"}, \"colorscale\": [[0.0, \"#0d0887\"], [0.1111111111111111, \"#46039f\"], [0.2222222222222222, \"#7201a8\"], [0.3333333333333333, \"#9c179e\"], [0.4444444444444444, \"#bd3786\"], [0.5555555555555556, \"#d8576b\"], [0.6666666666666666, \"#ed7953\"], [0.7777777777777778, \"#fb9f3a\"], [0.8888888888888888, \"#fdca26\"], [1.0, \"#f0f921\"]], \"type\": \"histogram2d\"}], \"histogram2dcontour\": [{\"colorbar\": {\"outlinewidth\": 0, \"ticks\": \"\"}, \"colorscale\": [[0.0, \"#0d0887\"], [0.1111111111111111, \"#46039f\"], [0.2222222222222222, \"#7201a8\"], [0.3333333333333333, \"#9c179e\"], [0.4444444444444444, \"#bd3786\"], [0.5555555555555556, \"#d8576b\"], [0.6666666666666666, \"#ed7953\"], [0.7777777777777778, \"#fb9f3a\"], [0.8888888888888888, \"#fdca26\"], [1.0, \"#f0f921\"]], \"type\": \"histogram2dcontour\"}], \"mesh3d\": [{\"colorbar\": {\"outlinewidth\": 0, \"ticks\": \"\"}, \"type\": \"mesh3d\"}], \"parcoords\": [{\"line\": {\"colorbar\": {\"outlinewidth\": 0, \"ticks\": \"\"}}, \"type\": \"parcoords\"}], \"pie\": [{\"automargin\": true, \"type\": \"pie\"}], \"scatter\": [{\"marker\": {\"colorbar\": {\"outlinewidth\": 0, \"ticks\": \"\"}}, \"type\": \"scatter\"}], \"scatter3d\": [{\"line\": {\"colorbar\": {\"outlinewidth\": 0, \"ticks\": \"\"}}, \"marker\": {\"colorbar\": {\"outlinewidth\": 0, \"ticks\": \"\"}}, \"type\": \"scatter3d\"}], \"scattercarpet\": [{\"marker\": {\"colorbar\": {\"outlinewidth\": 0, \"ticks\": \"\"}}, \"type\": \"scattercarpet\"}], \"scattergeo\": [{\"marker\": {\"colorbar\": {\"outlinewidth\": 0, \"ticks\": \"\"}}, \"type\": \"scattergeo\"}], \"scattergl\": [{\"marker\": {\"colorbar\": {\"outlinewidth\": 0, \"ticks\": \"\"}}, \"type\": \"scattergl\"}], \"scattermapbox\": [{\"marker\": {\"colorbar\": {\"outlinewidth\": 0, \"ticks\": \"\"}}, \"type\": \"scattermapbox\"}], \"scatterpolar\": [{\"marker\": {\"colorbar\": {\"outlinewidth\": 0, \"ticks\": \"\"}}, \"type\": \"scatterpolar\"}], \"scatterpolargl\": [{\"marker\": {\"colorbar\": {\"outlinewidth\": 0, \"ticks\": \"\"}}, \"type\": \"scatterpolargl\"}], \"scatterternary\": [{\"marker\": {\"colorbar\": {\"outlinewidth\": 0, \"ticks\": \"\"}}, \"type\": \"scatterternary\"}], \"surface\": [{\"colorbar\": {\"outlinewidth\": 0, \"ticks\": \"\"}, \"colorscale\": [[0.0, \"#0d0887\"], [0.1111111111111111, \"#46039f\"], [0.2222222222222222, \"#7201a8\"], [0.3333333333333333, \"#9c179e\"], [0.4444444444444444, \"#bd3786\"], [0.5555555555555556, \"#d8576b\"], [0.6666666666666666, \"#ed7953\"], [0.7777777777777778, \"#fb9f3a\"], [0.8888888888888888, \"#fdca26\"], [1.0, \"#f0f921\"]], \"type\": \"surface\"}], \"table\": [{\"cells\": {\"fill\": {\"color\": \"#EBF0F8\"}, \"line\": {\"color\": \"white\"}}, \"header\": {\"fill\": {\"color\": \"#C8D4E3\"}, \"line\": {\"color\": \"white\"}}, \"type\": \"table\"}]}, \"layout\": {\"annotationdefaults\": {\"arrowcolor\": \"#2a3f5f\", \"arrowhead\": 0, \"arrowwidth\": 1}, \"autotypenumbers\": \"strict\", \"coloraxis\": {\"colorbar\": {\"outlinewidth\": 0, \"ticks\": \"\"}}, \"colorscale\": {\"diverging\": [[0, \"#8e0152\"], [0.1, \"#c51b7d\"], [0.2, \"#de77ae\"], [0.3, \"#f1b6da\"], [0.4, \"#fde0ef\"], [0.5, \"#f7f7f7\"], [0.6, \"#e6f5d0\"], [0.7, \"#b8e186\"], [0.8, \"#7fbc41\"], [0.9, \"#4d9221\"], [1, \"#276419\"]], \"sequential\": [[0.0, \"#0d0887\"], [0.1111111111111111, \"#46039f\"], [0.2222222222222222, \"#7201a8\"], [0.3333333333333333, \"#9c179e\"], [0.4444444444444444, \"#bd3786\"], [0.5555555555555556, \"#d8576b\"], [0.6666666666666666, \"#ed7953\"], [0.7777777777777778, \"#fb9f3a\"], [0.8888888888888888, \"#fdca26\"], [1.0, \"#f0f921\"]], \"sequentialminus\": [[0.0, \"#0d0887\"], [0.1111111111111111, \"#46039f\"], [0.2222222222222222, \"#7201a8\"], [0.3333333333333333, \"#9c179e\"], [0.4444444444444444, \"#bd3786\"], [0.5555555555555556, \"#d8576b\"], [0.6666666666666666, \"#ed7953\"], [0.7777777777777778, \"#fb9f3a\"], [0.8888888888888888, \"#fdca26\"], [1.0, \"#f0f921\"]]}, \"colorway\": [\"#636efa\", \"#EF553B\", \"#00cc96\", \"#ab63fa\", \"#FFA15A\", \"#19d3f3\", \"#FF6692\", \"#B6E880\", \"#FF97FF\", \"#FECB52\"], \"font\": {\"color\": \"#2a3f5f\"}, \"geo\": {\"bgcolor\": \"white\", \"lakecolor\": \"white\", \"landcolor\": \"#E5ECF6\", \"showlakes\": true, \"showland\": true, \"subunitcolor\": \"white\"}, \"hoverlabel\": {\"align\": \"left\"}, \"hovermode\": \"closest\", \"mapbox\": {\"style\": \"light\"}, \"paper_bgcolor\": \"white\", \"plot_bgcolor\": \"#E5ECF6\", \"polar\": {\"angularaxis\": {\"gridcolor\": \"white\", \"linecolor\": \"white\", \"ticks\": \"\"}, \"bgcolor\": \"#E5ECF6\", \"radialaxis\": {\"gridcolor\": \"white\", \"linecolor\": \"white\", \"ticks\": \"\"}}, \"scene\": {\"xaxis\": {\"backgroundcolor\": \"#E5ECF6\", \"gridcolor\": \"white\", \"gridwidth\": 2, \"linecolor\": \"white\", \"showbackground\": true, \"ticks\": \"\", \"zerolinecolor\": \"white\"}, \"yaxis\": {\"backgroundcolor\": \"#E5ECF6\", \"gridcolor\": \"white\", \"gridwidth\": 2, \"linecolor\": \"white\", \"showbackground\": true, \"ticks\": \"\", \"zerolinecolor\": \"white\"}, \"zaxis\": {\"backgroundcolor\": \"#E5ECF6\", \"gridcolor\": \"white\", \"gridwidth\": 2, \"linecolor\": \"white\", \"showbackground\": true, \"ticks\": \"\", \"zerolinecolor\": \"white\"}}, \"shapedefaults\": {\"line\": {\"color\": \"#2a3f5f\"}}, \"ternary\": {\"aaxis\": {\"gridcolor\": \"white\", \"linecolor\": \"white\", \"ticks\": \"\"}, \"baxis\": {\"gridcolor\": \"white\", \"linecolor\": \"white\", \"ticks\": \"\"}, \"bgcolor\": \"#E5ECF6\", \"caxis\": {\"gridcolor\": \"white\", \"linecolor\": \"white\", \"ticks\": \"\"}}, \"title\": {\"x\": 0.05}, \"xaxis\": {\"automargin\": true, \"gridcolor\": \"white\", \"linecolor\": \"white\", \"ticks\": \"\", \"title\": {\"standoff\": 15}, \"zerolinecolor\": \"white\", \"zerolinewidth\": 2}, \"yaxis\": {\"automargin\": true, \"gridcolor\": \"white\", \"linecolor\": \"white\", \"ticks\": \"\", \"title\": {\"standoff\": 15}, \"zerolinecolor\": \"white\", \"zerolinewidth\": 2}}}, \"title\": {\"text\": \"Covid19 cases and deaths world wide\"}},                        {\"responsive\": true}                    ).then(function(){\n",
       "                            \n",
       "var gd = document.getElementById('6d933af8-36b2-4e23-9369-f5c11d60e986');\n",
       "var x = new MutationObserver(function (mutations, observer) {{\n",
       "        var display = window.getComputedStyle(gd).display;\n",
       "        if (!display || display === 'none') {{\n",
       "            console.log([gd, 'removed!']);\n",
       "            Plotly.purge(gd);\n",
       "            observer.disconnect();\n",
       "        }}\n",
       "}});\n",
       "\n",
       "// Listen for the removal of the full notebook cells\n",
       "var notebookContainer = gd.closest('#notebook-container');\n",
       "if (notebookContainer) {{\n",
       "    x.observe(notebookContainer, {childList: true});\n",
       "}}\n",
       "\n",
       "// Listen for the clearing of the current output cell\n",
       "var outputEl = gd.closest('.output');\n",
       "if (outputEl) {{\n",
       "    x.observe(outputEl, {childList: true});\n",
       "}}\n",
       "\n",
       "                        })                };                });            </script>        </div>"
      ]
     },
     "metadata": {},
     "output_type": "display_data"
    }
   ],
   "source": [
    "choromap = go.Figure(data = [data],layout = layout)\n",
    "iplot(choromap)"
   ]
  },
  {
   "cell_type": "code",
   "execution_count": 11,
   "metadata": {},
   "outputs": [
    {
     "data": {
      "text/html": [
       "<div>\n",
       "<style scoped>\n",
       "    .dataframe tbody tr th:only-of-type {\n",
       "        vertical-align: middle;\n",
       "    }\n",
       "\n",
       "    .dataframe tbody tr th {\n",
       "        vertical-align: top;\n",
       "    }\n",
       "\n",
       "    .dataframe thead th {\n",
       "        text-align: right;\n",
       "    }\n",
       "</style>\n",
       "<table border=\"1\" class=\"dataframe\">\n",
       "  <thead>\n",
       "    <tr style=\"text-align: right;\">\n",
       "      <th></th>\n",
       "      <th>total_cases</th>\n",
       "      <th>total_deaths</th>\n",
       "    </tr>\n",
       "    <tr>\n",
       "      <th>date</th>\n",
       "      <th></th>\n",
       "      <th></th>\n",
       "    </tr>\n",
       "  </thead>\n",
       "  <tbody>\n",
       "    <tr>\n",
       "      <th>01-01-2020</th>\n",
       "      <td>NaN</td>\n",
       "      <td>NaN</td>\n",
       "    </tr>\n",
       "    <tr>\n",
       "      <th>01-01-2021</th>\n",
       "      <td>879783.403141</td>\n",
       "      <td>20651.367232</td>\n",
       "    </tr>\n",
       "    <tr>\n",
       "      <th>01-02-2020</th>\n",
       "      <td>926.000000</td>\n",
       "      <td>259.000000</td>\n",
       "    </tr>\n",
       "    <tr>\n",
       "      <th>01-03-2020</th>\n",
       "      <td>2599.823529</td>\n",
       "      <td>460.923077</td>\n",
       "    </tr>\n",
       "    <tr>\n",
       "      <th>01-04-2020</th>\n",
       "      <td>10650.333333</td>\n",
       "      <td>774.584615</td>\n",
       "    </tr>\n",
       "  </tbody>\n",
       "</table>\n",
       "</div>"
      ],
      "text/plain": [
       "              total_cases  total_deaths\n",
       "date                                   \n",
       "01-01-2020            NaN           NaN\n",
       "01-01-2021  879783.403141  20651.367232\n",
       "01-02-2020     926.000000    259.000000\n",
       "01-03-2020    2599.823529    460.923077\n",
       "01-04-2020   10650.333333    774.584615"
      ]
     },
     "execution_count": 11,
     "metadata": {},
     "output_type": "execute_result"
    }
   ],
   "source": [
    "adf.head()"
   ]
  },
  {
   "cell_type": "code",
   "execution_count": 12,
   "metadata": {},
   "outputs": [],
   "source": [
    "adf = df.groupby('date').mean()[['total_cases','total_deaths']]\n",
    "adf =adf.reset_index()\n",
    "adf['date'] = pd.to_datetime(adf['date'])\n",
    "adf['month_numeric'] = adf['date'].apply(lambda x:x.month )"
   ]
  },
  {
   "cell_type": "code",
   "execution_count": 13,
   "metadata": {},
   "outputs": [],
   "source": [
    "month_dict = {1:'January',2:'February',3:'March',4:'April',\n",
    "        5:'May',6:'June',7:'July',8:'August',9:'September',10:'October',11:'November',12:'December'}\n",
    "month_dict_reverse = {'January':1,'February':2,'March':3,'April':4,\n",
    "        'May':5,'June':6,'July':7,'August':8,'September':9,'October':10,'November':11,'December':12}"
   ]
  },
  {
   "cell_type": "code",
   "execution_count": 14,
   "metadata": {},
   "outputs": [],
   "source": [
    "adf['month'] = adf['month_numeric'].map(month_dict)"
   ]
  },
  {
   "cell_type": "code",
   "execution_count": 15,
   "metadata": {},
   "outputs": [],
   "source": [
    "adf\n",
    "new_df = adf.groupby('month').sum().reset_index().sort_values(by='month')\n",
    "new_df['month_numeric']=new_df['month'].map(month_dict_reverse)\n",
    "new_df = new_df.sort_values(by='month_numeric')"
   ]
  },
  {
   "cell_type": "code",
   "execution_count": 16,
   "metadata": {},
   "outputs": [
    {
     "data": {
      "text/html": [
       "        <script type=\"text/javascript\">\n",
       "        window.PlotlyConfig = {MathJaxConfig: 'local'};\n",
       "        if (window.MathJax) {MathJax.Hub.Config({SVG: {font: \"STIX-Web\"}});}\n",
       "        if (typeof require !== 'undefined') {\n",
       "        require.undef(\"plotly\");\n",
       "        requirejs.config({\n",
       "            paths: {\n",
       "                'plotly': ['https://cdn.plot.ly/plotly-latest.min']\n",
       "            }\n",
       "        });\n",
       "        require(['plotly'], function(Plotly) {\n",
       "            window._Plotly = Plotly;\n",
       "        });\n",
       "        }\n",
       "        </script>\n",
       "        "
      ]
     },
     "metadata": {},
     "output_type": "display_data"
    },
    {
     "data": {
      "application/vnd.plotly.v1+json": {
       "config": {
        "linkText": "Export to plot.ly",
        "plotlyServerURL": "https://plot.ly",
        "showLink": true
       },
       "data": [
        {
         "marker": {
          "color": "rgba(255, 153, 51, 0.6)",
          "line": {
           "color": "rgba(255, 153, 51, 1.0)",
           "width": 1
          }
         },
         "name": "total_cases",
         "orientation": "v",
         "text": "",
         "type": "bar",
         "x": [
          "January",
          "February",
          "March",
          "April",
          "May",
          "June",
          "July",
          "August",
          "September",
          "October",
          "November",
          "December"
         ],
         "y": [
          3112422.7694610865,
          3214969.93686209,
          3266561.1467826786,
          3717003.954292242,
          4304630.641548292,
          5019860.721478357,
          6416010.73960398,
          8061785.279357278,
          9450678.20373024,
          11881703.705361726,
          13543953.767950194,
          18045218.754590046
         ]
        }
       ],
       "layout": {
        "legend": {
         "bgcolor": "#F5F6F9",
         "font": {
          "color": "#4D5663"
         }
        },
        "paper_bgcolor": "#F5F6F9",
        "plot_bgcolor": "#F5F6F9",
        "template": {
         "data": {
          "bar": [
           {
            "error_x": {
             "color": "#2a3f5f"
            },
            "error_y": {
             "color": "#2a3f5f"
            },
            "marker": {
             "line": {
              "color": "#E5ECF6",
              "width": 0.5
             }
            },
            "type": "bar"
           }
          ],
          "barpolar": [
           {
            "marker": {
             "line": {
              "color": "#E5ECF6",
              "width": 0.5
             }
            },
            "type": "barpolar"
           }
          ],
          "carpet": [
           {
            "aaxis": {
             "endlinecolor": "#2a3f5f",
             "gridcolor": "white",
             "linecolor": "white",
             "minorgridcolor": "white",
             "startlinecolor": "#2a3f5f"
            },
            "baxis": {
             "endlinecolor": "#2a3f5f",
             "gridcolor": "white",
             "linecolor": "white",
             "minorgridcolor": "white",
             "startlinecolor": "#2a3f5f"
            },
            "type": "carpet"
           }
          ],
          "choropleth": [
           {
            "colorbar": {
             "outlinewidth": 0,
             "ticks": ""
            },
            "type": "choropleth"
           }
          ],
          "contour": [
           {
            "colorbar": {
             "outlinewidth": 0,
             "ticks": ""
            },
            "colorscale": [
             [
              0,
              "#0d0887"
             ],
             [
              0.1111111111111111,
              "#46039f"
             ],
             [
              0.2222222222222222,
              "#7201a8"
             ],
             [
              0.3333333333333333,
              "#9c179e"
             ],
             [
              0.4444444444444444,
              "#bd3786"
             ],
             [
              0.5555555555555556,
              "#d8576b"
             ],
             [
              0.6666666666666666,
              "#ed7953"
             ],
             [
              0.7777777777777778,
              "#fb9f3a"
             ],
             [
              0.8888888888888888,
              "#fdca26"
             ],
             [
              1,
              "#f0f921"
             ]
            ],
            "type": "contour"
           }
          ],
          "contourcarpet": [
           {
            "colorbar": {
             "outlinewidth": 0,
             "ticks": ""
            },
            "type": "contourcarpet"
           }
          ],
          "heatmap": [
           {
            "colorbar": {
             "outlinewidth": 0,
             "ticks": ""
            },
            "colorscale": [
             [
              0,
              "#0d0887"
             ],
             [
              0.1111111111111111,
              "#46039f"
             ],
             [
              0.2222222222222222,
              "#7201a8"
             ],
             [
              0.3333333333333333,
              "#9c179e"
             ],
             [
              0.4444444444444444,
              "#bd3786"
             ],
             [
              0.5555555555555556,
              "#d8576b"
             ],
             [
              0.6666666666666666,
              "#ed7953"
             ],
             [
              0.7777777777777778,
              "#fb9f3a"
             ],
             [
              0.8888888888888888,
              "#fdca26"
             ],
             [
              1,
              "#f0f921"
             ]
            ],
            "type": "heatmap"
           }
          ],
          "heatmapgl": [
           {
            "colorbar": {
             "outlinewidth": 0,
             "ticks": ""
            },
            "colorscale": [
             [
              0,
              "#0d0887"
             ],
             [
              0.1111111111111111,
              "#46039f"
             ],
             [
              0.2222222222222222,
              "#7201a8"
             ],
             [
              0.3333333333333333,
              "#9c179e"
             ],
             [
              0.4444444444444444,
              "#bd3786"
             ],
             [
              0.5555555555555556,
              "#d8576b"
             ],
             [
              0.6666666666666666,
              "#ed7953"
             ],
             [
              0.7777777777777778,
              "#fb9f3a"
             ],
             [
              0.8888888888888888,
              "#fdca26"
             ],
             [
              1,
              "#f0f921"
             ]
            ],
            "type": "heatmapgl"
           }
          ],
          "histogram": [
           {
            "marker": {
             "colorbar": {
              "outlinewidth": 0,
              "ticks": ""
             }
            },
            "type": "histogram"
           }
          ],
          "histogram2d": [
           {
            "colorbar": {
             "outlinewidth": 0,
             "ticks": ""
            },
            "colorscale": [
             [
              0,
              "#0d0887"
             ],
             [
              0.1111111111111111,
              "#46039f"
             ],
             [
              0.2222222222222222,
              "#7201a8"
             ],
             [
              0.3333333333333333,
              "#9c179e"
             ],
             [
              0.4444444444444444,
              "#bd3786"
             ],
             [
              0.5555555555555556,
              "#d8576b"
             ],
             [
              0.6666666666666666,
              "#ed7953"
             ],
             [
              0.7777777777777778,
              "#fb9f3a"
             ],
             [
              0.8888888888888888,
              "#fdca26"
             ],
             [
              1,
              "#f0f921"
             ]
            ],
            "type": "histogram2d"
           }
          ],
          "histogram2dcontour": [
           {
            "colorbar": {
             "outlinewidth": 0,
             "ticks": ""
            },
            "colorscale": [
             [
              0,
              "#0d0887"
             ],
             [
              0.1111111111111111,
              "#46039f"
             ],
             [
              0.2222222222222222,
              "#7201a8"
             ],
             [
              0.3333333333333333,
              "#9c179e"
             ],
             [
              0.4444444444444444,
              "#bd3786"
             ],
             [
              0.5555555555555556,
              "#d8576b"
             ],
             [
              0.6666666666666666,
              "#ed7953"
             ],
             [
              0.7777777777777778,
              "#fb9f3a"
             ],
             [
              0.8888888888888888,
              "#fdca26"
             ],
             [
              1,
              "#f0f921"
             ]
            ],
            "type": "histogram2dcontour"
           }
          ],
          "mesh3d": [
           {
            "colorbar": {
             "outlinewidth": 0,
             "ticks": ""
            },
            "type": "mesh3d"
           }
          ],
          "parcoords": [
           {
            "line": {
             "colorbar": {
              "outlinewidth": 0,
              "ticks": ""
             }
            },
            "type": "parcoords"
           }
          ],
          "pie": [
           {
            "automargin": true,
            "type": "pie"
           }
          ],
          "scatter": [
           {
            "marker": {
             "colorbar": {
              "outlinewidth": 0,
              "ticks": ""
             }
            },
            "type": "scatter"
           }
          ],
          "scatter3d": [
           {
            "line": {
             "colorbar": {
              "outlinewidth": 0,
              "ticks": ""
             }
            },
            "marker": {
             "colorbar": {
              "outlinewidth": 0,
              "ticks": ""
             }
            },
            "type": "scatter3d"
           }
          ],
          "scattercarpet": [
           {
            "marker": {
             "colorbar": {
              "outlinewidth": 0,
              "ticks": ""
             }
            },
            "type": "scattercarpet"
           }
          ],
          "scattergeo": [
           {
            "marker": {
             "colorbar": {
              "outlinewidth": 0,
              "ticks": ""
             }
            },
            "type": "scattergeo"
           }
          ],
          "scattergl": [
           {
            "marker": {
             "colorbar": {
              "outlinewidth": 0,
              "ticks": ""
             }
            },
            "type": "scattergl"
           }
          ],
          "scattermapbox": [
           {
            "marker": {
             "colorbar": {
              "outlinewidth": 0,
              "ticks": ""
             }
            },
            "type": "scattermapbox"
           }
          ],
          "scatterpolar": [
           {
            "marker": {
             "colorbar": {
              "outlinewidth": 0,
              "ticks": ""
             }
            },
            "type": "scatterpolar"
           }
          ],
          "scatterpolargl": [
           {
            "marker": {
             "colorbar": {
              "outlinewidth": 0,
              "ticks": ""
             }
            },
            "type": "scatterpolargl"
           }
          ],
          "scatterternary": [
           {
            "marker": {
             "colorbar": {
              "outlinewidth": 0,
              "ticks": ""
             }
            },
            "type": "scatterternary"
           }
          ],
          "surface": [
           {
            "colorbar": {
             "outlinewidth": 0,
             "ticks": ""
            },
            "colorscale": [
             [
              0,
              "#0d0887"
             ],
             [
              0.1111111111111111,
              "#46039f"
             ],
             [
              0.2222222222222222,
              "#7201a8"
             ],
             [
              0.3333333333333333,
              "#9c179e"
             ],
             [
              0.4444444444444444,
              "#bd3786"
             ],
             [
              0.5555555555555556,
              "#d8576b"
             ],
             [
              0.6666666666666666,
              "#ed7953"
             ],
             [
              0.7777777777777778,
              "#fb9f3a"
             ],
             [
              0.8888888888888888,
              "#fdca26"
             ],
             [
              1,
              "#f0f921"
             ]
            ],
            "type": "surface"
           }
          ],
          "table": [
           {
            "cells": {
             "fill": {
              "color": "#EBF0F8"
             },
             "line": {
              "color": "white"
             }
            },
            "header": {
             "fill": {
              "color": "#C8D4E3"
             },
             "line": {
              "color": "white"
             }
            },
            "type": "table"
           }
          ]
         },
         "layout": {
          "annotationdefaults": {
           "arrowcolor": "#2a3f5f",
           "arrowhead": 0,
           "arrowwidth": 1
          },
          "autotypenumbers": "strict",
          "coloraxis": {
           "colorbar": {
            "outlinewidth": 0,
            "ticks": ""
           }
          },
          "colorscale": {
           "diverging": [
            [
             0,
             "#8e0152"
            ],
            [
             0.1,
             "#c51b7d"
            ],
            [
             0.2,
             "#de77ae"
            ],
            [
             0.3,
             "#f1b6da"
            ],
            [
             0.4,
             "#fde0ef"
            ],
            [
             0.5,
             "#f7f7f7"
            ],
            [
             0.6,
             "#e6f5d0"
            ],
            [
             0.7,
             "#b8e186"
            ],
            [
             0.8,
             "#7fbc41"
            ],
            [
             0.9,
             "#4d9221"
            ],
            [
             1,
             "#276419"
            ]
           ],
           "sequential": [
            [
             0,
             "#0d0887"
            ],
            [
             0.1111111111111111,
             "#46039f"
            ],
            [
             0.2222222222222222,
             "#7201a8"
            ],
            [
             0.3333333333333333,
             "#9c179e"
            ],
            [
             0.4444444444444444,
             "#bd3786"
            ],
            [
             0.5555555555555556,
             "#d8576b"
            ],
            [
             0.6666666666666666,
             "#ed7953"
            ],
            [
             0.7777777777777778,
             "#fb9f3a"
            ],
            [
             0.8888888888888888,
             "#fdca26"
            ],
            [
             1,
             "#f0f921"
            ]
           ],
           "sequentialminus": [
            [
             0,
             "#0d0887"
            ],
            [
             0.1111111111111111,
             "#46039f"
            ],
            [
             0.2222222222222222,
             "#7201a8"
            ],
            [
             0.3333333333333333,
             "#9c179e"
            ],
            [
             0.4444444444444444,
             "#bd3786"
            ],
            [
             0.5555555555555556,
             "#d8576b"
            ],
            [
             0.6666666666666666,
             "#ed7953"
            ],
            [
             0.7777777777777778,
             "#fb9f3a"
            ],
            [
             0.8888888888888888,
             "#fdca26"
            ],
            [
             1,
             "#f0f921"
            ]
           ]
          },
          "colorway": [
           "#636efa",
           "#EF553B",
           "#00cc96",
           "#ab63fa",
           "#FFA15A",
           "#19d3f3",
           "#FF6692",
           "#B6E880",
           "#FF97FF",
           "#FECB52"
          ],
          "font": {
           "color": "#2a3f5f"
          },
          "geo": {
           "bgcolor": "white",
           "lakecolor": "white",
           "landcolor": "#E5ECF6",
           "showlakes": true,
           "showland": true,
           "subunitcolor": "white"
          },
          "hoverlabel": {
           "align": "left"
          },
          "hovermode": "closest",
          "mapbox": {
           "style": "light"
          },
          "paper_bgcolor": "white",
          "plot_bgcolor": "#E5ECF6",
          "polar": {
           "angularaxis": {
            "gridcolor": "white",
            "linecolor": "white",
            "ticks": ""
           },
           "bgcolor": "#E5ECF6",
           "radialaxis": {
            "gridcolor": "white",
            "linecolor": "white",
            "ticks": ""
           }
          },
          "scene": {
           "xaxis": {
            "backgroundcolor": "#E5ECF6",
            "gridcolor": "white",
            "gridwidth": 2,
            "linecolor": "white",
            "showbackground": true,
            "ticks": "",
            "zerolinecolor": "white"
           },
           "yaxis": {
            "backgroundcolor": "#E5ECF6",
            "gridcolor": "white",
            "gridwidth": 2,
            "linecolor": "white",
            "showbackground": true,
            "ticks": "",
            "zerolinecolor": "white"
           },
           "zaxis": {
            "backgroundcolor": "#E5ECF6",
            "gridcolor": "white",
            "gridwidth": 2,
            "linecolor": "white",
            "showbackground": true,
            "ticks": "",
            "zerolinecolor": "white"
           }
          },
          "shapedefaults": {
           "line": {
            "color": "#2a3f5f"
           }
          },
          "ternary": {
           "aaxis": {
            "gridcolor": "white",
            "linecolor": "white",
            "ticks": ""
           },
           "baxis": {
            "gridcolor": "white",
            "linecolor": "white",
            "ticks": ""
           },
           "bgcolor": "#E5ECF6",
           "caxis": {
            "gridcolor": "white",
            "linecolor": "white",
            "ticks": ""
           }
          },
          "title": {
           "x": 0.05
          },
          "xaxis": {
           "automargin": true,
           "gridcolor": "white",
           "linecolor": "white",
           "ticks": "",
           "title": {
            "standoff": 15
           },
           "zerolinecolor": "white",
           "zerolinewidth": 2
          },
          "yaxis": {
           "automargin": true,
           "gridcolor": "white",
           "linecolor": "white",
           "ticks": "",
           "title": {
            "standoff": 15
           },
           "zerolinecolor": "white",
           "zerolinewidth": 2
          }
         }
        },
        "title": {
         "font": {
          "color": "#4D5663"
         },
         "text": "Global Covid Data by months"
        },
        "xaxis": {
         "gridcolor": "#E1E5ED",
         "showgrid": true,
         "tickfont": {
          "color": "#4D5663"
         },
         "title": {
          "font": {
           "color": "#4D5663"
          },
          "text": "Months"
         },
         "zerolinecolor": "#E1E5ED"
        },
        "yaxis": {
         "gridcolor": "#E1E5ED",
         "showgrid": true,
         "tickfont": {
          "color": "#4D5663"
         },
         "title": {
          "font": {
           "color": "#4D5663"
          },
          "text": "Cases in Millions"
         },
         "zerolinecolor": "#E1E5ED"
        }
       }
      },
      "text/html": [
       "<div>                            <div id=\"445647c9-dbd1-4dcd-bf68-9f43bcaedfa7\" class=\"plotly-graph-div\" style=\"height:525px; width:100%;\"></div>            <script type=\"text/javascript\">                require([\"plotly\"], function(Plotly) {                    window.PLOTLYENV=window.PLOTLYENV || {};\n",
       "                    window.PLOTLYENV.BASE_URL='https://plot.ly';                                    if (document.getElementById(\"445647c9-dbd1-4dcd-bf68-9f43bcaedfa7\")) {                    Plotly.newPlot(                        \"445647c9-dbd1-4dcd-bf68-9f43bcaedfa7\",                        [{\"marker\": {\"color\": \"rgba(255, 153, 51, 0.6)\", \"line\": {\"color\": \"rgba(255, 153, 51, 1.0)\", \"width\": 1}}, \"name\": \"total_cases\", \"orientation\": \"v\", \"text\": \"\", \"type\": \"bar\", \"x\": [\"January\", \"February\", \"March\", \"April\", \"May\", \"June\", \"July\", \"August\", \"September\", \"October\", \"November\", \"December\"], \"y\": [3112422.7694610865, 3214969.93686209, 3266561.1467826786, 3717003.954292242, 4304630.641548292, 5019860.721478357, 6416010.73960398, 8061785.279357278, 9450678.20373024, 11881703.705361726, 13543953.767950194, 18045218.754590046]}],                        {\"legend\": {\"bgcolor\": \"#F5F6F9\", \"font\": {\"color\": \"#4D5663\"}}, \"paper_bgcolor\": \"#F5F6F9\", \"plot_bgcolor\": \"#F5F6F9\", \"template\": {\"data\": {\"bar\": [{\"error_x\": {\"color\": \"#2a3f5f\"}, \"error_y\": {\"color\": \"#2a3f5f\"}, \"marker\": {\"line\": {\"color\": \"#E5ECF6\", \"width\": 0.5}}, \"type\": \"bar\"}], \"barpolar\": [{\"marker\": {\"line\": {\"color\": \"#E5ECF6\", \"width\": 0.5}}, \"type\": \"barpolar\"}], \"carpet\": [{\"aaxis\": {\"endlinecolor\": \"#2a3f5f\", \"gridcolor\": \"white\", \"linecolor\": \"white\", \"minorgridcolor\": \"white\", \"startlinecolor\": \"#2a3f5f\"}, \"baxis\": {\"endlinecolor\": \"#2a3f5f\", \"gridcolor\": \"white\", \"linecolor\": \"white\", \"minorgridcolor\": \"white\", \"startlinecolor\": \"#2a3f5f\"}, \"type\": \"carpet\"}], \"choropleth\": [{\"colorbar\": {\"outlinewidth\": 0, \"ticks\": \"\"}, \"type\": \"choropleth\"}], \"contour\": [{\"colorbar\": {\"outlinewidth\": 0, \"ticks\": \"\"}, \"colorscale\": [[0.0, \"#0d0887\"], [0.1111111111111111, \"#46039f\"], [0.2222222222222222, \"#7201a8\"], [0.3333333333333333, \"#9c179e\"], [0.4444444444444444, \"#bd3786\"], [0.5555555555555556, \"#d8576b\"], [0.6666666666666666, \"#ed7953\"], [0.7777777777777778, \"#fb9f3a\"], [0.8888888888888888, \"#fdca26\"], [1.0, \"#f0f921\"]], \"type\": \"contour\"}], \"contourcarpet\": [{\"colorbar\": {\"outlinewidth\": 0, \"ticks\": \"\"}, \"type\": \"contourcarpet\"}], \"heatmap\": [{\"colorbar\": {\"outlinewidth\": 0, \"ticks\": \"\"}, \"colorscale\": [[0.0, \"#0d0887\"], [0.1111111111111111, \"#46039f\"], [0.2222222222222222, \"#7201a8\"], [0.3333333333333333, \"#9c179e\"], [0.4444444444444444, \"#bd3786\"], [0.5555555555555556, \"#d8576b\"], [0.6666666666666666, \"#ed7953\"], [0.7777777777777778, \"#fb9f3a\"], [0.8888888888888888, \"#fdca26\"], [1.0, \"#f0f921\"]], \"type\": \"heatmap\"}], \"heatmapgl\": [{\"colorbar\": {\"outlinewidth\": 0, \"ticks\": \"\"}, \"colorscale\": [[0.0, \"#0d0887\"], [0.1111111111111111, \"#46039f\"], [0.2222222222222222, \"#7201a8\"], [0.3333333333333333, \"#9c179e\"], [0.4444444444444444, \"#bd3786\"], [0.5555555555555556, \"#d8576b\"], [0.6666666666666666, \"#ed7953\"], [0.7777777777777778, \"#fb9f3a\"], [0.8888888888888888, \"#fdca26\"], [1.0, \"#f0f921\"]], \"type\": \"heatmapgl\"}], \"histogram\": [{\"marker\": {\"colorbar\": {\"outlinewidth\": 0, \"ticks\": \"\"}}, \"type\": \"histogram\"}], \"histogram2d\": [{\"colorbar\": {\"outlinewidth\": 0, \"ticks\": \"\"}, \"colorscale\": [[0.0, \"#0d0887\"], [0.1111111111111111, \"#46039f\"], [0.2222222222222222, \"#7201a8\"], [0.3333333333333333, \"#9c179e\"], [0.4444444444444444, \"#bd3786\"], [0.5555555555555556, \"#d8576b\"], [0.6666666666666666, \"#ed7953\"], [0.7777777777777778, \"#fb9f3a\"], [0.8888888888888888, \"#fdca26\"], [1.0, \"#f0f921\"]], \"type\": \"histogram2d\"}], \"histogram2dcontour\": [{\"colorbar\": {\"outlinewidth\": 0, \"ticks\": \"\"}, \"colorscale\": [[0.0, \"#0d0887\"], [0.1111111111111111, \"#46039f\"], [0.2222222222222222, \"#7201a8\"], [0.3333333333333333, \"#9c179e\"], [0.4444444444444444, \"#bd3786\"], [0.5555555555555556, \"#d8576b\"], [0.6666666666666666, \"#ed7953\"], [0.7777777777777778, \"#fb9f3a\"], [0.8888888888888888, \"#fdca26\"], [1.0, \"#f0f921\"]], \"type\": \"histogram2dcontour\"}], \"mesh3d\": [{\"colorbar\": {\"outlinewidth\": 0, \"ticks\": \"\"}, \"type\": \"mesh3d\"}], \"parcoords\": [{\"line\": {\"colorbar\": {\"outlinewidth\": 0, \"ticks\": \"\"}}, \"type\": \"parcoords\"}], \"pie\": [{\"automargin\": true, \"type\": \"pie\"}], \"scatter\": [{\"marker\": {\"colorbar\": {\"outlinewidth\": 0, \"ticks\": \"\"}}, \"type\": \"scatter\"}], \"scatter3d\": [{\"line\": {\"colorbar\": {\"outlinewidth\": 0, \"ticks\": \"\"}}, \"marker\": {\"colorbar\": {\"outlinewidth\": 0, \"ticks\": \"\"}}, \"type\": \"scatter3d\"}], \"scattercarpet\": [{\"marker\": {\"colorbar\": {\"outlinewidth\": 0, \"ticks\": \"\"}}, \"type\": \"scattercarpet\"}], \"scattergeo\": [{\"marker\": {\"colorbar\": {\"outlinewidth\": 0, \"ticks\": \"\"}}, \"type\": \"scattergeo\"}], \"scattergl\": [{\"marker\": {\"colorbar\": {\"outlinewidth\": 0, \"ticks\": \"\"}}, \"type\": \"scattergl\"}], \"scattermapbox\": [{\"marker\": {\"colorbar\": {\"outlinewidth\": 0, \"ticks\": \"\"}}, \"type\": \"scattermapbox\"}], \"scatterpolar\": [{\"marker\": {\"colorbar\": {\"outlinewidth\": 0, \"ticks\": \"\"}}, \"type\": \"scatterpolar\"}], \"scatterpolargl\": [{\"marker\": {\"colorbar\": {\"outlinewidth\": 0, \"ticks\": \"\"}}, \"type\": \"scatterpolargl\"}], \"scatterternary\": [{\"marker\": {\"colorbar\": {\"outlinewidth\": 0, \"ticks\": \"\"}}, \"type\": \"scatterternary\"}], \"surface\": [{\"colorbar\": {\"outlinewidth\": 0, \"ticks\": \"\"}, \"colorscale\": [[0.0, \"#0d0887\"], [0.1111111111111111, \"#46039f\"], [0.2222222222222222, \"#7201a8\"], [0.3333333333333333, \"#9c179e\"], [0.4444444444444444, \"#bd3786\"], [0.5555555555555556, \"#d8576b\"], [0.6666666666666666, \"#ed7953\"], [0.7777777777777778, \"#fb9f3a\"], [0.8888888888888888, \"#fdca26\"], [1.0, \"#f0f921\"]], \"type\": \"surface\"}], \"table\": [{\"cells\": {\"fill\": {\"color\": \"#EBF0F8\"}, \"line\": {\"color\": \"white\"}}, \"header\": {\"fill\": {\"color\": \"#C8D4E3\"}, \"line\": {\"color\": \"white\"}}, \"type\": \"table\"}]}, \"layout\": {\"annotationdefaults\": {\"arrowcolor\": \"#2a3f5f\", \"arrowhead\": 0, \"arrowwidth\": 1}, \"autotypenumbers\": \"strict\", \"coloraxis\": {\"colorbar\": {\"outlinewidth\": 0, \"ticks\": \"\"}}, \"colorscale\": {\"diverging\": [[0, \"#8e0152\"], [0.1, \"#c51b7d\"], [0.2, \"#de77ae\"], [0.3, \"#f1b6da\"], [0.4, \"#fde0ef\"], [0.5, \"#f7f7f7\"], [0.6, \"#e6f5d0\"], [0.7, \"#b8e186\"], [0.8, \"#7fbc41\"], [0.9, \"#4d9221\"], [1, \"#276419\"]], \"sequential\": [[0.0, \"#0d0887\"], [0.1111111111111111, \"#46039f\"], [0.2222222222222222, \"#7201a8\"], [0.3333333333333333, \"#9c179e\"], [0.4444444444444444, \"#bd3786\"], [0.5555555555555556, \"#d8576b\"], [0.6666666666666666, \"#ed7953\"], [0.7777777777777778, \"#fb9f3a\"], [0.8888888888888888, \"#fdca26\"], [1.0, \"#f0f921\"]], \"sequentialminus\": [[0.0, \"#0d0887\"], [0.1111111111111111, \"#46039f\"], [0.2222222222222222, \"#7201a8\"], [0.3333333333333333, \"#9c179e\"], [0.4444444444444444, \"#bd3786\"], [0.5555555555555556, \"#d8576b\"], [0.6666666666666666, \"#ed7953\"], [0.7777777777777778, \"#fb9f3a\"], [0.8888888888888888, \"#fdca26\"], [1.0, \"#f0f921\"]]}, \"colorway\": [\"#636efa\", \"#EF553B\", \"#00cc96\", \"#ab63fa\", \"#FFA15A\", \"#19d3f3\", \"#FF6692\", \"#B6E880\", \"#FF97FF\", \"#FECB52\"], \"font\": {\"color\": \"#2a3f5f\"}, \"geo\": {\"bgcolor\": \"white\", \"lakecolor\": \"white\", \"landcolor\": \"#E5ECF6\", \"showlakes\": true, \"showland\": true, \"subunitcolor\": \"white\"}, \"hoverlabel\": {\"align\": \"left\"}, \"hovermode\": \"closest\", \"mapbox\": {\"style\": \"light\"}, \"paper_bgcolor\": \"white\", \"plot_bgcolor\": \"#E5ECF6\", \"polar\": {\"angularaxis\": {\"gridcolor\": \"white\", \"linecolor\": \"white\", \"ticks\": \"\"}, \"bgcolor\": \"#E5ECF6\", \"radialaxis\": {\"gridcolor\": \"white\", \"linecolor\": \"white\", \"ticks\": \"\"}}, \"scene\": {\"xaxis\": {\"backgroundcolor\": \"#E5ECF6\", \"gridcolor\": \"white\", \"gridwidth\": 2, \"linecolor\": \"white\", \"showbackground\": true, \"ticks\": \"\", \"zerolinecolor\": \"white\"}, \"yaxis\": {\"backgroundcolor\": \"#E5ECF6\", \"gridcolor\": \"white\", \"gridwidth\": 2, \"linecolor\": \"white\", \"showbackground\": true, \"ticks\": \"\", \"zerolinecolor\": \"white\"}, \"zaxis\": {\"backgroundcolor\": \"#E5ECF6\", \"gridcolor\": \"white\", \"gridwidth\": 2, \"linecolor\": \"white\", \"showbackground\": true, \"ticks\": \"\", \"zerolinecolor\": \"white\"}}, \"shapedefaults\": {\"line\": {\"color\": \"#2a3f5f\"}}, \"ternary\": {\"aaxis\": {\"gridcolor\": \"white\", \"linecolor\": \"white\", \"ticks\": \"\"}, \"baxis\": {\"gridcolor\": \"white\", \"linecolor\": \"white\", \"ticks\": \"\"}, \"bgcolor\": \"#E5ECF6\", \"caxis\": {\"gridcolor\": \"white\", \"linecolor\": \"white\", \"ticks\": \"\"}}, \"title\": {\"x\": 0.05}, \"xaxis\": {\"automargin\": true, \"gridcolor\": \"white\", \"linecolor\": \"white\", \"ticks\": \"\", \"title\": {\"standoff\": 15}, \"zerolinecolor\": \"white\", \"zerolinewidth\": 2}, \"yaxis\": {\"automargin\": true, \"gridcolor\": \"white\", \"linecolor\": \"white\", \"ticks\": \"\", \"title\": {\"standoff\": 15}, \"zerolinecolor\": \"white\", \"zerolinewidth\": 2}}}, \"title\": {\"font\": {\"color\": \"#4D5663\"}, \"text\": \"Global Covid Data by months\"}, \"xaxis\": {\"gridcolor\": \"#E1E5ED\", \"showgrid\": true, \"tickfont\": {\"color\": \"#4D5663\"}, \"title\": {\"font\": {\"color\": \"#4D5663\"}, \"text\": \"Months\"}, \"zerolinecolor\": \"#E1E5ED\"}, \"yaxis\": {\"gridcolor\": \"#E1E5ED\", \"showgrid\": true, \"tickfont\": {\"color\": \"#4D5663\"}, \"title\": {\"font\": {\"color\": \"#4D5663\"}, \"text\": \"Cases in Millions\"}, \"zerolinecolor\": \"#E1E5ED\"}},                        {\"showLink\": true, \"linkText\": \"Export to plot.ly\", \"plotlyServerURL\": \"https://plot.ly\", \"responsive\": true}                    ).then(function(){\n",
       "                            \n",
       "var gd = document.getElementById('445647c9-dbd1-4dcd-bf68-9f43bcaedfa7');\n",
       "var x = new MutationObserver(function (mutations, observer) {{\n",
       "        var display = window.getComputedStyle(gd).display;\n",
       "        if (!display || display === 'none') {{\n",
       "            console.log([gd, 'removed!']);\n",
       "            Plotly.purge(gd);\n",
       "            observer.disconnect();\n",
       "        }}\n",
       "}});\n",
       "\n",
       "// Listen for the removal of the full notebook cells\n",
       "var notebookContainer = gd.closest('#notebook-container');\n",
       "if (notebookContainer) {{\n",
       "    x.observe(notebookContainer, {childList: true});\n",
       "}}\n",
       "\n",
       "// Listen for the clearing of the current output cell\n",
       "var outputEl = gd.closest('.output');\n",
       "if (outputEl) {{\n",
       "    x.observe(outputEl, {childList: true});\n",
       "}}\n",
       "\n",
       "                        })                };                });            </script>        </div>"
      ]
     },
     "metadata": {},
     "output_type": "display_data"
    },
    {
     "data": {
      "text/plain": [
       "str"
      ]
     },
     "execution_count": 16,
     "metadata": {},
     "output_type": "execute_result"
    }
   ],
   "source": [
    "import numpy as np\n",
    "import cufflinks as cf\n",
    "cf.go_offline()\n",
    "%matplotlib inline\n",
    "# adf.iplot(kind='bar',y='total_cases',x='month',title='Global Data by months',xTitle='Months',yTitle='Cases in Millions')\n",
    "new_df.iplot(kind='bar',y='total_cases',x='month',title='Global Covid Data by months',xTitle='Months',yTitle='Cases in Millions')\n",
    "type(new_df['month'].iloc[0])"
   ]
  },
  {
   "cell_type": "code",
   "execution_count": 19,
   "metadata": {},
   "outputs": [],
   "source": [
    "df2=df.pivot_table(values='new_cases',aggfunc='sum',columns='date',index='location')"
   ]
  },
  {
   "cell_type": "code",
   "execution_count": null,
   "metadata": {},
   "outputs": [],
   "source": []
  }
 ],
 "metadata": {
  "kernelspec": {
   "display_name": "Python 3",
   "language": "python",
   "name": "python3"
  },
  "language_info": {
   "codemirror_mode": {
    "name": "ipython",
    "version": 3
   },
   "file_extension": ".py",
   "mimetype": "text/x-python",
   "name": "python",
   "nbconvert_exporter": "python",
   "pygments_lexer": "ipython3",
   "version": "3.6.4"
  }
 },
 "nbformat": 4,
 "nbformat_minor": 2
}
